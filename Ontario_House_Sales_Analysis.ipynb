{
 "cells": [
  {
   "cell_type": "markdown",
   "metadata": {},
   "source": [
    "## Ontario House Sales - Data Analysis\n",
    "\n",
    "**Information about the Data**:\n",
    "This dataset (from kaggle.com) includes the listing prices for the sale of properties (mostly houses) in Ontario.\n",
    "They are obtained for a short period of time in July 2016 and include the following fields:\n",
    "\n",
    "- Price in dollars <br>\n",
    "- Address of the property<br>\n",
    "- Latitude and Longitude of the address <br>\n",
    "- Area Name of the property \n",
    "\n",
    "**Tasks and questions**: \n",
    "- Which regions have more quantity of houses on sale? <br>\n",
    "- Which regions have more valuable houses?\n"
   ]
  },
  {
   "cell_type": "code",
   "execution_count": 3,
   "metadata": {},
   "outputs": [],
   "source": [
    "# importing the data analysis libs\n",
    "\n",
    "import pandas as pd\n",
    "import numpy as np\n",
    "import matplotlib.pyplot as plt\n",
    "import seaborn as sns\n",
    "sns.set_style('whitegrid')\n"
   ]
  },
  {
   "cell_type": "code",
   "execution_count": 4,
   "metadata": {},
   "outputs": [],
   "source": [
    "%matplotlib inline"
   ]
  },
  {
   "cell_type": "code",
   "execution_count": 233,
   "metadata": {},
   "outputs": [],
   "source": [
    "# Load the data\n",
    "df = pd.read_csv('data/properties.csv')"
   ]
  },
  {
   "cell_type": "code",
   "execution_count": 234,
   "metadata": {},
   "outputs": [
    {
     "data": {
      "text/html": [
       "<div>\n",
       "<style scoped>\n",
       "    .dataframe tbody tr th:only-of-type {\n",
       "        vertical-align: middle;\n",
       "    }\n",
       "\n",
       "    .dataframe tbody tr th {\n",
       "        vertical-align: top;\n",
       "    }\n",
       "\n",
       "    .dataframe thead th {\n",
       "        text-align: right;\n",
       "    }\n",
       "</style>\n",
       "<table border=\"1\" class=\"dataframe\">\n",
       "  <thead>\n",
       "    <tr style=\"text-align: right;\">\n",
       "      <th></th>\n",
       "      <th>Unnamed: 0</th>\n",
       "      <th>Address</th>\n",
       "      <th>AreaName</th>\n",
       "      <th>Price ($)</th>\n",
       "      <th>lat</th>\n",
       "      <th>lng</th>\n",
       "    </tr>\n",
       "  </thead>\n",
       "  <tbody>\n",
       "    <tr>\n",
       "      <th>0</th>\n",
       "      <td>0</td>\n",
       "      <td>86 Waterford Dr Toronto, ON</td>\n",
       "      <td>Richview</td>\n",
       "      <td>999888</td>\n",
       "      <td>43.679882</td>\n",
       "      <td>-79.544266</td>\n",
       "    </tr>\n",
       "    <tr>\n",
       "      <th>1</th>\n",
       "      <td>1</td>\n",
       "      <td>#80 - 100 BEDDOE DR Hamilton, ON</td>\n",
       "      <td>Chedoke Park B</td>\n",
       "      <td>399900</td>\n",
       "      <td>43.250000</td>\n",
       "      <td>-79.904396</td>\n",
       "    </tr>\n",
       "    <tr>\n",
       "      <th>2</th>\n",
       "      <td>2</td>\n",
       "      <td>213 Bowman Street Hamilton, ON</td>\n",
       "      <td>Ainslie Wood East</td>\n",
       "      <td>479000</td>\n",
       "      <td>43.251690</td>\n",
       "      <td>-79.919357</td>\n",
       "    </tr>\n",
       "    <tr>\n",
       "      <th>3</th>\n",
       "      <td>3</td>\n",
       "      <td>102 NEIL Avenue Hamilton, ON</td>\n",
       "      <td>Greenford</td>\n",
       "      <td>285900</td>\n",
       "      <td>43.227161</td>\n",
       "      <td>-79.767403</td>\n",
       "    </tr>\n",
       "    <tr>\n",
       "      <th>4</th>\n",
       "      <td>6</td>\n",
       "      <td>#1409 - 230 King St Toronto, ON</td>\n",
       "      <td>Downtown</td>\n",
       "      <td>362000</td>\n",
       "      <td>43.651478</td>\n",
       "      <td>-79.368118</td>\n",
       "    </tr>\n",
       "  </tbody>\n",
       "</table>\n",
       "</div>"
      ],
      "text/plain": [
       "   Unnamed: 0                           Address           AreaName  Price ($)  \\\n",
       "0           0       86 Waterford Dr Toronto, ON           Richview     999888   \n",
       "1           1  #80 - 100 BEDDOE DR Hamilton, ON     Chedoke Park B     399900   \n",
       "2           2    213 Bowman Street Hamilton, ON  Ainslie Wood East     479000   \n",
       "3           3      102 NEIL Avenue Hamilton, ON          Greenford     285900   \n",
       "4           6   #1409 - 230 King St Toronto, ON           Downtown     362000   \n",
       "\n",
       "         lat        lng  \n",
       "0  43.679882 -79.544266  \n",
       "1  43.250000 -79.904396  \n",
       "2  43.251690 -79.919357  \n",
       "3  43.227161 -79.767403  \n",
       "4  43.651478 -79.368118  "
      ]
     },
     "execution_count": 234,
     "metadata": {},
     "output_type": "execute_result"
    }
   ],
   "source": [
    "# Checking the Dataset\n",
    "df.head()"
   ]
  },
  {
   "cell_type": "code",
   "execution_count": 7,
   "metadata": {},
   "outputs": [
    {
     "name": "stdout",
     "output_type": "stream",
     "text": [
      "<class 'pandas.core.frame.DataFrame'>\n",
      "RangeIndex: 25351 entries, 0 to 25350\n",
      "Data columns (total 6 columns):\n",
      " #   Column      Non-Null Count  Dtype  \n",
      "---  ------      --------------  -----  \n",
      " 0   Unnamed: 0  25351 non-null  int64  \n",
      " 1   Address     25351 non-null  object \n",
      " 2   AreaName    24868 non-null  object \n",
      " 3   Price ($)   25351 non-null  int64  \n",
      " 4   lat         25351 non-null  float64\n",
      " 5   lng         25351 non-null  float64\n",
      "dtypes: float64(2), int64(2), object(2)\n",
      "memory usage: 1.2+ MB\n"
     ]
    }
   ],
   "source": [
    "df.info()"
   ]
  },
  {
   "cell_type": "code",
   "execution_count": 235,
   "metadata": {},
   "outputs": [
    {
     "data": {
      "text/plain": [
       "Index(['Unnamed: 0', 'Address', 'AreaName', 'Price ($)', 'lat', 'lng'], dtype='object')"
      ]
     },
     "execution_count": 235,
     "metadata": {},
     "output_type": "execute_result"
    }
   ],
   "source": [
    "df.columns"
   ]
  },
  {
   "cell_type": "code",
   "execution_count": 236,
   "metadata": {},
   "outputs": [
    {
     "data": {
      "text/plain": [
       "Index(['ID', 'Address', 'AreaName', 'Price', 'lat', 'lng'], dtype='object')"
      ]
     },
     "execution_count": 236,
     "metadata": {},
     "output_type": "execute_result"
    }
   ],
   "source": [
    "# Changing some column names\n",
    "df.rename(columns={'Unnamed: 0': 'ID', 'Price ($)': 'Price'}, inplace=True)\n",
    "df.columns"
   ]
  },
  {
   "cell_type": "code",
   "execution_count": 237,
   "metadata": {},
   "outputs": [
    {
     "data": {
      "text/plain": [
       "(25351, 6)"
      ]
     },
     "execution_count": 237,
     "metadata": {},
     "output_type": "execute_result"
    }
   ],
   "source": [
    "df.shape"
   ]
  },
  {
   "cell_type": "code",
   "execution_count": 238,
   "metadata": {},
   "outputs": [
    {
     "data": {
      "text/html": [
       "<div>\n",
       "<style scoped>\n",
       "    .dataframe tbody tr th:only-of-type {\n",
       "        vertical-align: middle;\n",
       "    }\n",
       "\n",
       "    .dataframe tbody tr th {\n",
       "        vertical-align: top;\n",
       "    }\n",
       "\n",
       "    .dataframe thead th {\n",
       "        text-align: right;\n",
       "    }\n",
       "</style>\n",
       "<table border=\"1\" class=\"dataframe\">\n",
       "  <thead>\n",
       "    <tr style=\"text-align: right;\">\n",
       "      <th></th>\n",
       "      <th>ID</th>\n",
       "      <th>Price</th>\n",
       "      <th>lat</th>\n",
       "      <th>lng</th>\n",
       "    </tr>\n",
       "  </thead>\n",
       "  <tbody>\n",
       "    <tr>\n",
       "      <th>count</th>\n",
       "      <td>25351.000000</td>\n",
       "      <td>2.535100e+04</td>\n",
       "      <td>25351.000000</td>\n",
       "      <td>25351.000000</td>\n",
       "    </tr>\n",
       "    <tr>\n",
       "      <th>mean</th>\n",
       "      <td>42878.517613</td>\n",
       "      <td>5.645438e+05</td>\n",
       "      <td>37.326614</td>\n",
       "      <td>-85.218379</td>\n",
       "    </tr>\n",
       "    <tr>\n",
       "      <th>std</th>\n",
       "      <td>31456.247046</td>\n",
       "      <td>8.475962e+05</td>\n",
       "      <td>82.858347</td>\n",
       "      <td>73.093572</td>\n",
       "    </tr>\n",
       "    <tr>\n",
       "      <th>min</th>\n",
       "      <td>0.000000</td>\n",
       "      <td>0.000000e+00</td>\n",
       "      <td>-999.000000</td>\n",
       "      <td>-999.000000</td>\n",
       "    </tr>\n",
       "    <tr>\n",
       "      <th>25%</th>\n",
       "      <td>19940.000000</td>\n",
       "      <td>2.199000e+05</td>\n",
       "      <td>43.401087</td>\n",
       "      <td>-80.308159</td>\n",
       "    </tr>\n",
       "    <tr>\n",
       "      <th>50%</th>\n",
       "      <td>34037.000000</td>\n",
       "      <td>3.719000e+05</td>\n",
       "      <td>43.715977</td>\n",
       "      <td>-79.503342</td>\n",
       "    </tr>\n",
       "    <tr>\n",
       "      <th>75%</th>\n",
       "      <td>61501.500000</td>\n",
       "      <td>6.199000e+05</td>\n",
       "      <td>44.466711</td>\n",
       "      <td>-79.107326</td>\n",
       "    </tr>\n",
       "    <tr>\n",
       "      <th>max</th>\n",
       "      <td>124929.000000</td>\n",
       "      <td>3.250000e+07</td>\n",
       "      <td>53.851017</td>\n",
       "      <td>1.074519</td>\n",
       "    </tr>\n",
       "  </tbody>\n",
       "</table>\n",
       "</div>"
      ],
      "text/plain": [
       "                  ID         Price           lat           lng\n",
       "count   25351.000000  2.535100e+04  25351.000000  25351.000000\n",
       "mean    42878.517613  5.645438e+05     37.326614    -85.218379\n",
       "std     31456.247046  8.475962e+05     82.858347     73.093572\n",
       "min         0.000000  0.000000e+00   -999.000000   -999.000000\n",
       "25%     19940.000000  2.199000e+05     43.401087    -80.308159\n",
       "50%     34037.000000  3.719000e+05     43.715977    -79.503342\n",
       "75%     61501.500000  6.199000e+05     44.466711    -79.107326\n",
       "max    124929.000000  3.250000e+07     53.851017      1.074519"
      ]
     },
     "execution_count": 238,
     "metadata": {},
     "output_type": "execute_result"
    }
   ],
   "source": [
    "df.describe()"
   ]
  },
  {
   "cell_type": "code",
   "execution_count": 239,
   "metadata": {},
   "outputs": [],
   "source": [
    "# Filtering out data with invalid Latitude and Longitude value of -999\n",
    "df = df[(df['lat']!=-999) & (df['lng']!=-999)]"
   ]
  },
  {
   "cell_type": "code",
   "execution_count": 240,
   "metadata": {},
   "outputs": [
    {
     "data": {
      "text/plain": [
       "(25190, 6)"
      ]
     },
     "execution_count": 240,
     "metadata": {},
     "output_type": "execute_result"
    }
   ],
   "source": [
    "df.shape"
   ]
  },
  {
   "cell_type": "code",
   "execution_count": 241,
   "metadata": {},
   "outputs": [],
   "source": [
    "# Filtering out outliers i.e Price below $100000 and above $10000000\n",
    "#df = df[(df['Price'] >= 100000) & (df['Price'] <= 10000000)]"
   ]
  },
  {
   "cell_type": "code",
   "execution_count": 242,
   "metadata": {},
   "outputs": [
    {
     "data": {
      "text/plain": [
       "(25190, 6)"
      ]
     },
     "execution_count": 242,
     "metadata": {},
     "output_type": "execute_result"
    }
   ],
   "source": [
    "df.shape"
   ]
  },
  {
   "cell_type": "code",
   "execution_count": 243,
   "metadata": {},
   "outputs": [
    {
     "data": {
      "text/html": [
       "<div>\n",
       "<style scoped>\n",
       "    .dataframe tbody tr th:only-of-type {\n",
       "        vertical-align: middle;\n",
       "    }\n",
       "\n",
       "    .dataframe tbody tr th {\n",
       "        vertical-align: top;\n",
       "    }\n",
       "\n",
       "    .dataframe thead th {\n",
       "        text-align: right;\n",
       "    }\n",
       "</style>\n",
       "<table border=\"1\" class=\"dataframe\">\n",
       "  <thead>\n",
       "    <tr style=\"text-align: right;\">\n",
       "      <th></th>\n",
       "      <th>ID</th>\n",
       "      <th>Price</th>\n",
       "      <th>lat</th>\n",
       "      <th>lng</th>\n",
       "    </tr>\n",
       "  </thead>\n",
       "  <tbody>\n",
       "    <tr>\n",
       "      <th>count</th>\n",
       "      <td>25190.000000</td>\n",
       "      <td>2.519000e+04</td>\n",
       "      <td>25190.000000</td>\n",
       "      <td>25190.000000</td>\n",
       "    </tr>\n",
       "    <tr>\n",
       "      <th>mean</th>\n",
       "      <td>42875.106471</td>\n",
       "      <td>5.653961e+05</td>\n",
       "      <td>43.950218</td>\n",
       "      <td>-79.378012</td>\n",
       "    </tr>\n",
       "    <tr>\n",
       "      <th>std</th>\n",
       "      <td>31451.088218</td>\n",
       "      <td>8.497320e+05</td>\n",
       "      <td>1.012079</td>\n",
       "      <td>2.382423</td>\n",
       "    </tr>\n",
       "    <tr>\n",
       "      <th>min</th>\n",
       "      <td>0.000000</td>\n",
       "      <td>0.000000e+00</td>\n",
       "      <td>36.160065</td>\n",
       "      <td>-122.553154</td>\n",
       "    </tr>\n",
       "    <tr>\n",
       "      <th>25%</th>\n",
       "      <td>19951.500000</td>\n",
       "      <td>2.199000e+05</td>\n",
       "      <td>43.409222</td>\n",
       "      <td>-80.284736</td>\n",
       "    </tr>\n",
       "    <tr>\n",
       "      <th>50%</th>\n",
       "      <td>34047.500000</td>\n",
       "      <td>3.720000e+05</td>\n",
       "      <td>43.718151</td>\n",
       "      <td>-79.495723</td>\n",
       "    </tr>\n",
       "    <tr>\n",
       "      <th>75%</th>\n",
       "      <td>61488.750000</td>\n",
       "      <td>6.199000e+05</td>\n",
       "      <td>44.478209</td>\n",
       "      <td>-79.099981</td>\n",
       "    </tr>\n",
       "    <tr>\n",
       "      <th>max</th>\n",
       "      <td>124929.000000</td>\n",
       "      <td>3.250000e+07</td>\n",
       "      <td>53.851017</td>\n",
       "      <td>1.074519</td>\n",
       "    </tr>\n",
       "  </tbody>\n",
       "</table>\n",
       "</div>"
      ],
      "text/plain": [
       "                  ID         Price           lat           lng\n",
       "count   25190.000000  2.519000e+04  25190.000000  25190.000000\n",
       "mean    42875.106471  5.653961e+05     43.950218    -79.378012\n",
       "std     31451.088218  8.497320e+05      1.012079      2.382423\n",
       "min         0.000000  0.000000e+00     36.160065   -122.553154\n",
       "25%     19951.500000  2.199000e+05     43.409222    -80.284736\n",
       "50%     34047.500000  3.720000e+05     43.718151    -79.495723\n",
       "75%     61488.750000  6.199000e+05     44.478209    -79.099981\n",
       "max    124929.000000  3.250000e+07     53.851017      1.074519"
      ]
     },
     "execution_count": 243,
     "metadata": {},
     "output_type": "execute_result"
    }
   ],
   "source": [
    "df.describe()"
   ]
  },
  {
   "cell_type": "markdown",
   "metadata": {},
   "source": [
    "## Exploratory Data Analysis"
   ]
  },
  {
   "cell_type": "markdown",
   "metadata": {},
   "source": [
    "** Which areas have most quantity of houses on sale? **"
   ]
  },
  {
   "cell_type": "code",
   "execution_count": 245,
   "metadata": {},
   "outputs": [
    {
     "data": {
      "text/plain": [
       "(array([ 0,  1,  2,  3,  4,  5,  6,  7,  8,  9, 10, 11, 12, 13, 14, 15, 16,\n",
       "        17, 18, 19]),\n",
       " [Text(0, 0, 'Downtown'),\n",
       "  Text(1, 0, 'Mississauga'),\n",
       "  Text(2, 0, 'Waterloo'),\n",
       "  Text(3, 0, 'Niagara Falls'),\n",
       "  Text(4, 0, 'Richmond Hill'),\n",
       "  Text(5, 0, 'Burlington'),\n",
       "  Text(6, 0, 'Willowdale'),\n",
       "  Text(7, 0, 'Brampton'),\n",
       "  Text(8, 0, 'Oakville'),\n",
       "  Text(9, 0, 'Midtown Toronto'),\n",
       "  Text(10, 0, 'Huntsville'),\n",
       "  Text(11, 0, 'Orléans'),\n",
       "  Text(12, 0, 'Kingston'),\n",
       "  Text(13, 0, 'Brantford'),\n",
       "  Text(14, 0, 'Peterborough'),\n",
       "  Text(15, 0, 'Kanata'),\n",
       "  Text(16, 0, 'Belleville'),\n",
       "  Text(17, 0, 'Ottawa'),\n",
       "  Text(18, 0, 'Windsor'),\n",
       "  Text(19, 0, 'Perth')])"
      ]
     },
     "execution_count": 245,
     "metadata": {},
     "output_type": "execute_result"
    },
    {
     "data": {
      "image/png": "[encoded data removed]",
      "text/plain": [
       "<Figure size 864x432 with 1 Axes>"
      ]
     },
     "metadata": {
      "needs_background": "light"
     },
     "output_type": "display_data"
    }
   ],
   "source": [
    "plt.figure(figsize=(12,6))\n",
    "sns.countplot(x='AreaName', data=df, order=df['AreaName'].value_counts().iloc[:20].index, palette = 'coolwarm')\n",
    "plt.title('Top 20 Area by Number of Houses for Sale',fontweight='bold',fontsize=20)\n",
    "plt.xticks(rotation=90)"
   ]
  },
  {
   "cell_type": "markdown",
   "metadata": {},
   "source": [
    "Conclusion : Downtown is the area with most number of houses on sale"
   ]
  },
  {
   "cell_type": "markdown",
   "metadata": {},
   "source": [
    "** Which area has highest priced houses ? **"
   ]
  },
  {
   "cell_type": "code",
   "execution_count": 255,
   "metadata": {},
   "outputs": [],
   "source": [
    "#Mean Price by Area\n",
    "df_mean = df.groupby('AreaName').mean().sort_values(by='Price',ascending = False)"
   ]
  },
  {
   "cell_type": "code",
   "execution_count": 254,
   "metadata": {},
   "outputs": [
    {
     "data": {
      "text/plain": [
       "(array([ 0,  1,  2,  3,  4,  5,  6,  7,  8,  9, 10, 11, 12, 13, 14, 15, 16,\n",
       "        17, 18, 19]),\n",
       " [Text(0, 0, 'Bridle Path'),\n",
       "  Text(1, 0, 'Appleby'),\n",
       "  Text(2, 0, 'Lytton Park'),\n",
       "  Text(3, 0, 'York Mills'),\n",
       "  Text(4, 0, 'Tempo'),\n",
       "  Text(5, 0, 'Edenbridge - Humber Valley'),\n",
       "  Text(6, 0, 'St. Andrew - Windfields'),\n",
       "  Text(7, 0, 'Armour Heights'),\n",
       "  Text(8, 0, 'Pelee Island'),\n",
       "  Text(9, 0, 'Crerar'),\n",
       "  Text(10, 0, 'Clarington'),\n",
       "  Text(11, 0, 'East Bayfront'),\n",
       "  Text(12, 0, 'Chestnut Hills'),\n",
       "  Text(13, 0, 'Windfields'),\n",
       "  Text(14, 0, 'Florida'),\n",
       "  Text(15, 0, 'Caribou Park'),\n",
       "  Text(16, 0, 'Pioneer Tower East'),\n",
       "  Text(17, 0, 'Thorncrest Village'),\n",
       "  Text(18, 0, 'West Queen West'),\n",
       "  Text(19, 0, 'Rural Oshawa')])"
      ]
     },
     "execution_count": 254,
     "metadata": {},
     "output_type": "execute_result"
    },
    {
     "data": {
      "image/png": "[encoded data removed]",
      "text/plain": [
       "<Figure size 864x432 with 1 Axes>"
      ]
     },
     "metadata": {
      "needs_background": "light"
     },
     "output_type": "display_data"
    }
   ],
   "source": [
    "plt.figure(figsize=(12,6))\n",
    "sns.barplot(x='AreaName', y='Price',data=df_mean.reset_index(), order = df_mean.iloc[:20].index)\n",
    "plt.title('Top 20 Most Expensive Areas ',fontweight='bold',fontsize=20)\n",
    "plt.xticks(rotation=90)"
   ]
  },
  {
   "cell_type": "markdown",
   "metadata": {},
   "source": [
    "The highest average price of houses is in Bridle Path, Toronto."
   ]
  },
  {
   "cell_type": "markdown",
   "metadata": {},
   "source": [
    "** Most Expensive Houses by Area ? **"
   ]
  },
  {
   "cell_type": "code",
   "execution_count": 265,
   "metadata": {},
   "outputs": [],
   "source": [
    "top20_price_list=df['Price'].value_counts().sort_index(ascending = False).iloc[:19].index"
   ]
  },
  {
   "cell_type": "code",
   "execution_count": 268,
   "metadata": {},
   "outputs": [
    {
     "data": {
      "text/plain": [
       "Int64Index([32500000, 26800000, 23200000, 18800000, 16000000, 15300000,\n",
       "            15000000, 14888000, 14880000, 14800000, 14500000, 14395000,\n",
       "            13000000, 12900000, 10995000, 10900000, 10800000, 10799000,\n",
       "            10500000],\n",
       "           dtype='int64')"
      ]
     },
     "execution_count": 268,
     "metadata": {},
     "output_type": "execute_result"
    }
   ],
   "source": [
    "top20_price_list"
   ]
  },
  {
   "cell_type": "code",
   "execution_count": 272,
   "metadata": {},
   "outputs": [],
   "source": [
    "price20_df = df[df['Price'].isin(top20_price_list)].sort_values(by='Price',ascending=False)\n"
   ]
  },
  {
   "cell_type": "code",
   "execution_count": 267,
   "metadata": {},
   "outputs": [
    {
     "data": {
      "text/plain": [
       "(array([ 0,  1,  2,  3,  4,  5,  6,  7,  8,  9, 10, 11, 12]),\n",
       " [Text(0, 0, 'Greenbelt'),\n",
       "  Text(1, 0, 'Bridle Path'),\n",
       "  Text(2, 0, 'Barrie'),\n",
       "  Text(3, 0, 'Caledon'),\n",
       "  Text(4, 0, 'Woodbridge'),\n",
       "  Text(5, 0, 'Midtown Toronto'),\n",
       "  Text(6, 0, 'York Mills'),\n",
       "  Text(7, 0, 'Downtown'),\n",
       "  Text(8, 0, 'Belleville'),\n",
       "  Text(9, 0, 'Brantford'),\n",
       "  Text(10, 0, 'Mississauga'),\n",
       "  Text(11, 0, 'Waterloo'),\n",
       "  Text(12, 0, 'Downsview')])"
      ]
     },
     "execution_count": 267,
     "metadata": {},
     "output_type": "execute_result"
    },
    {
     "data": {
      "image/png": "[encoded data removed]",
      "text/plain": [
       "<Figure size 864x432 with 1 Axes>"
      ]
     },
     "metadata": {
      "needs_background": "light"
     },
     "output_type": "display_data"
    }
   ],
   "source": [
    "plt.figure(figsize=(12,6))\n",
    "sns.barplot(x='AreaName',y='Price' ,data=price20_df, palette = 'coolwarm',)\n",
    "plt.title('Top 20 Most Expensive Houses by Area ',fontweight='bold',fontsize=20)\n",
    "plt.xticks(rotation=90)"
   ]
  },
  {
   "cell_type": "markdown",
   "metadata": {},
   "source": [
    "Conclusion : The highest priced house is in Greenbelt area."
   ]
  },
  {
   "cell_type": "code",
   "execution_count": null,
   "metadata": {},
   "outputs": [],
   "source": []
  },
  {
   "cell_type": "code",
   "execution_count": null,
   "metadata": {},
   "outputs": [],
   "source": []
  }
 ],
 "metadata": {
  "kernelspec": {
   "display_name": "Python 3",
   "language": "python",
   "name": "python3"
  },
  "language_info": {
   "codemirror_mode": {
    "name": "ipython",
    "version": 3
   },
   "file_extension": ".py",
   "mimetype": "text/x-python",
   "name": "python",
   "nbconvert_exporter": "python",
   "pygments_lexer": "ipython3",
   "version": "3.8.5"
  }
 },
 "nbformat": 4,
 "nbformat_minor": 4
}
