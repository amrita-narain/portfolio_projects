{
 "cells": [
  {
   "attachments": {},
   "cell_type": "markdown",
   "metadata": {},
   "source": [
    "# Analysis of Bike Share Data - Divvy Dataset\n",
    "\n",
    "This Case Study was completed as part of the Google Data Analytics Professional Certificate.\n",
    "(This is the Python version of the project)\n",
    "\n",
    "Scenario:\n",
    "You are a junior data analyst working in the marketing analyst team at Cyclistic, a bike-share company in Chicago. The director of marketing believes the company’s future success depends on maximizing the number of annual memberships. Therefore, your team wants to understand how casual riders and annual members use Cyclistic bikes differently.\n",
    "\n",
    "Data Source: https://divvy-tripdata.s3.amazonaws.com/index.html. Data is organized by months and considered to be credible since it was directly downloaded from the source website.\n",
    "Data from the past 1 year has been downloaded from the divvy data site containing 12 csv files from Oct 2020 to Sept 2021.\n",
    "\n",
    "#### Ask Phase :: Business Objective - How do annual members and casual riders use Cyclistic bikes differently?"
   ]
  },
  {
   "attachments": {},
   "cell_type": "markdown",
   "metadata": {},
   "source": [
    "## STEP 1: Prepare - Collect and Combine the data "
   ]
  },
  {
   "cell_type": "code",
   "execution_count": 1,
   "metadata": {},
   "outputs": [],
   "source": [
    "# import numpy and pandas libararies\n",
    "import numpy as np\n",
    "import pandas as pd"
   ]
  },
  {
   "cell_type": "code",
   "execution_count": 2,
   "metadata": {},
   "outputs": [],
   "source": [
    "# Read all the 12 CSV files into individual dataframes \n",
    "\n",
    "df1 = pd.read_csv('./BikeShare_Data/202010-divvy-tripdata.csv')\n",
    "df2 = pd.read_csv('./BikeShare_Data/202011-divvy-tripdata.csv')\n",
    "df3 = pd.read_csv('./BikeShare_Data/202012-divvy-tripdata.csv')\n",
    "df4 = pd.read_csv('./BikeShare_Data/202101-divvy-tripdata.csv')\n",
    "df5 = pd.read_csv('./BikeShare_Data/202102-divvy-tripdata.csv')\n",
    "df6 = pd.read_csv('./BikeShare_Data/202103-divvy-tripdata.csv')\n",
    "df7 = pd.read_csv('./BikeShare_Data/202104-divvy-tripdata.csv')\n",
    "df8 = pd.read_csv('./BikeShare_Data/202105-divvy-tripdata.csv')\n",
    "df9 = pd.read_csv('./BikeShare_Data/202106-divvy-tripdata.csv')\n",
    "df10 = pd.read_csv('./BikeShare_Data/202107-divvy-tripdata.csv')\n",
    "df11 = pd.read_csv('./BikeShare_Data/202108-divvy-tripdata.csv')\n",
    "df12 = pd.read_csv('./BikeShare_Data/202109-divvy-tripdata.csv')"
   ]
  },
  {
   "cell_type": "code",
   "execution_count": 3,
   "metadata": {},
   "outputs": [],
   "source": [
    "frames = [df1, df2, df3, df4, df5, df6, df7, df8, df9, df10, df11, df12 ]"
   ]
  },
  {
   "cell_type": "code",
   "execution_count": 4,
   "metadata": {},
   "outputs": [],
   "source": [
    "bike_df = pd.concat(frames, ignore_index=True, sort=False)"
   ]
  },
  {
   "cell_type": "code",
   "execution_count": 5,
   "metadata": {},
   "outputs": [
    {
     "name": "stdout",
     "output_type": "stream",
     "text": [
      "<class 'pandas.core.frame.DataFrame'>\n",
      "RangeIndex: 5136261 entries, 0 to 5136260\n",
      "Data columns (total 13 columns):\n",
      " #   Column              Dtype  \n",
      "---  ------              -----  \n",
      " 0   ride_id             object \n",
      " 1   rideable_type       object \n",
      " 2   started_at          object \n",
      " 3   ended_at            object \n",
      " 4   start_station_name  object \n",
      " 5   start_station_id    object \n",
      " 6   end_station_name    object \n",
      " 7   end_station_id      object \n",
      " 8   start_lat           float64\n",
      " 9   start_lng           float64\n",
      " 10  end_lat             float64\n",
      " 11  end_lng             float64\n",
      " 12  member_casual       object \n",
      "dtypes: float64(4), object(9)\n",
      "memory usage: 509.4+ MB\n"
     ]
    }
   ],
   "source": [
    "bike_df.info()"
   ]
  },
  {
   "cell_type": "code",
   "execution_count": 6,
   "metadata": {},
   "outputs": [
    {
     "data": {
      "text/html": [
       "<div>\n",
       "<style scoped>\n",
       "    .dataframe tbody tr th:only-of-type {\n",
       "        vertical-align: middle;\n",
       "    }\n",
       "\n",
       "    .dataframe tbody tr th {\n",
       "        vertical-align: top;\n",
       "    }\n",
       "\n",
       "    .dataframe thead th {\n",
       "        text-align: right;\n",
       "    }\n",
       "</style>\n",
       "<table border=\"1\" class=\"dataframe\">\n",
       "  <thead>\n",
       "    <tr style=\"text-align: right;\">\n",
       "      <th></th>\n",
       "      <th>start_lat</th>\n",
       "      <th>start_lng</th>\n",
       "      <th>end_lat</th>\n",
       "      <th>end_lng</th>\n",
       "    </tr>\n",
       "  </thead>\n",
       "  <tbody>\n",
       "    <tr>\n",
       "      <th>count</th>\n",
       "      <td>5.136261e+06</td>\n",
       "      <td>5.136261e+06</td>\n",
       "      <td>5.131440e+06</td>\n",
       "      <td>5.131440e+06</td>\n",
       "    </tr>\n",
       "    <tr>\n",
       "      <th>mean</th>\n",
       "      <td>4.190240e+01</td>\n",
       "      <td>-8.764559e+01</td>\n",
       "      <td>4.190269e+01</td>\n",
       "      <td>-8.764581e+01</td>\n",
       "    </tr>\n",
       "    <tr>\n",
       "      <th>std</th>\n",
       "      <td>4.489459e-02</td>\n",
       "      <td>2.742823e-02</td>\n",
       "      <td>4.499254e-02</td>\n",
       "      <td>2.759811e-02</td>\n",
       "    </tr>\n",
       "    <tr>\n",
       "      <th>min</th>\n",
       "      <td>4.164000e+01</td>\n",
       "      <td>-8.784000e+01</td>\n",
       "      <td>4.151000e+01</td>\n",
       "      <td>-8.807000e+01</td>\n",
       "    </tr>\n",
       "    <tr>\n",
       "      <th>25%</th>\n",
       "      <td>4.188213e+01</td>\n",
       "      <td>-8.765975e+01</td>\n",
       "      <td>4.188224e+01</td>\n",
       "      <td>-8.766000e+01</td>\n",
       "    </tr>\n",
       "    <tr>\n",
       "      <th>50%</th>\n",
       "      <td>4.190000e+01</td>\n",
       "      <td>-8.764170e+01</td>\n",
       "      <td>4.190000e+01</td>\n",
       "      <td>-8.764182e+01</td>\n",
       "    </tr>\n",
       "    <tr>\n",
       "      <th>75%</th>\n",
       "      <td>4.192947e+01</td>\n",
       "      <td>-8.762773e+01</td>\n",
       "      <td>4.192955e+01</td>\n",
       "      <td>-8.762775e+01</td>\n",
       "    </tr>\n",
       "    <tr>\n",
       "      <th>max</th>\n",
       "      <td>4.208000e+01</td>\n",
       "      <td>-8.752000e+01</td>\n",
       "      <td>4.216812e+01</td>\n",
       "      <td>-8.744000e+01</td>\n",
       "    </tr>\n",
       "  </tbody>\n",
       "</table>\n",
       "</div>"
      ],
      "text/plain": [
       "          start_lat     start_lng       end_lat       end_lng\n",
       "count  5.136261e+06  5.136261e+06  5.131440e+06  5.131440e+06\n",
       "mean   4.190240e+01 -8.764559e+01  4.190269e+01 -8.764581e+01\n",
       "std    4.489459e-02  2.742823e-02  4.499254e-02  2.759811e-02\n",
       "min    4.164000e+01 -8.784000e+01  4.151000e+01 -8.807000e+01\n",
       "25%    4.188213e+01 -8.765975e+01  4.188224e+01 -8.766000e+01\n",
       "50%    4.190000e+01 -8.764170e+01  4.190000e+01 -8.764182e+01\n",
       "75%    4.192947e+01 -8.762773e+01  4.192955e+01 -8.762775e+01\n",
       "max    4.208000e+01 -8.752000e+01  4.216812e+01 -8.744000e+01"
      ]
     },
     "execution_count": 6,
     "metadata": {},
     "output_type": "execute_result"
    }
   ],
   "source": [
    "bike_df.describe()"
   ]
  },
  {
   "cell_type": "code",
   "execution_count": 7,
   "metadata": {},
   "outputs": [
    {
     "data": {
      "text/html": [
       "<div>\n",
       "<style scoped>\n",
       "    .dataframe tbody tr th:only-of-type {\n",
       "        vertical-align: middle;\n",
       "    }\n",
       "\n",
       "    .dataframe tbody tr th {\n",
       "        vertical-align: top;\n",
       "    }\n",
       "\n",
       "    .dataframe thead th {\n",
       "        text-align: right;\n",
       "    }\n",
       "</style>\n",
       "<table border=\"1\" class=\"dataframe\">\n",
       "  <thead>\n",
       "    <tr style=\"text-align: right;\">\n",
       "      <th></th>\n",
       "      <th>ride_id</th>\n",
       "      <th>rideable_type</th>\n",
       "      <th>started_at</th>\n",
       "      <th>ended_at</th>\n",
       "      <th>start_station_name</th>\n",
       "      <th>start_station_id</th>\n",
       "      <th>end_station_name</th>\n",
       "      <th>end_station_id</th>\n",
       "      <th>start_lat</th>\n",
       "      <th>start_lng</th>\n",
       "      <th>end_lat</th>\n",
       "      <th>end_lng</th>\n",
       "      <th>member_casual</th>\n",
       "    </tr>\n",
       "  </thead>\n",
       "  <tbody>\n",
       "    <tr>\n",
       "      <th>0</th>\n",
       "      <td>ACB6B40CF5B9044C</td>\n",
       "      <td>electric_bike</td>\n",
       "      <td>2020-10-31 19:39:43</td>\n",
       "      <td>2020-10-31 19:57:12</td>\n",
       "      <td>Lakeview Ave &amp; Fullerton Pkwy</td>\n",
       "      <td>313</td>\n",
       "      <td>Rush St &amp; Hubbard St</td>\n",
       "      <td>125</td>\n",
       "      <td>41.926101</td>\n",
       "      <td>-87.638977</td>\n",
       "      <td>41.890345</td>\n",
       "      <td>-87.626068</td>\n",
       "      <td>casual</td>\n",
       "    </tr>\n",
       "    <tr>\n",
       "      <th>1</th>\n",
       "      <td>DF450C72FD109C01</td>\n",
       "      <td>electric_bike</td>\n",
       "      <td>2020-10-31 23:50:08</td>\n",
       "      <td>2020-11-01 00:04:16</td>\n",
       "      <td>Southport Ave &amp; Waveland Ave</td>\n",
       "      <td>227</td>\n",
       "      <td>Kedzie Ave &amp; Milwaukee Ave</td>\n",
       "      <td>260</td>\n",
       "      <td>41.948172</td>\n",
       "      <td>-87.663911</td>\n",
       "      <td>41.929528</td>\n",
       "      <td>-87.707818</td>\n",
       "      <td>casual</td>\n",
       "    </tr>\n",
       "    <tr>\n",
       "      <th>2</th>\n",
       "      <td>B6396B54A15AC0DF</td>\n",
       "      <td>electric_bike</td>\n",
       "      <td>2020-10-31 23:00:01</td>\n",
       "      <td>2020-10-31 23:08:22</td>\n",
       "      <td>Stony Island Ave &amp; 67th St</td>\n",
       "      <td>102</td>\n",
       "      <td>University Ave &amp; 57th St</td>\n",
       "      <td>423</td>\n",
       "      <td>41.773462</td>\n",
       "      <td>-87.585372</td>\n",
       "      <td>41.791455</td>\n",
       "      <td>-87.600050</td>\n",
       "      <td>casual</td>\n",
       "    </tr>\n",
       "    <tr>\n",
       "      <th>3</th>\n",
       "      <td>44A4AEE261B9E854</td>\n",
       "      <td>electric_bike</td>\n",
       "      <td>2020-10-31 22:16:43</td>\n",
       "      <td>2020-10-31 22:19:35</td>\n",
       "      <td>Clark St &amp; Grace St</td>\n",
       "      <td>165</td>\n",
       "      <td>Broadway &amp; Sheridan Rd</td>\n",
       "      <td>256</td>\n",
       "      <td>41.950855</td>\n",
       "      <td>-87.659244</td>\n",
       "      <td>41.952809</td>\n",
       "      <td>-87.650103</td>\n",
       "      <td>casual</td>\n",
       "    </tr>\n",
       "    <tr>\n",
       "      <th>4</th>\n",
       "      <td>10B7DD76A6A2EB95</td>\n",
       "      <td>electric_bike</td>\n",
       "      <td>2020-10-31 19:38:19</td>\n",
       "      <td>2020-10-31 19:54:32</td>\n",
       "      <td>Southport Ave &amp; Wrightwood Ave</td>\n",
       "      <td>190</td>\n",
       "      <td>Stave St &amp; Armitage Ave</td>\n",
       "      <td>185</td>\n",
       "      <td>41.928857</td>\n",
       "      <td>-87.663962</td>\n",
       "      <td>41.917777</td>\n",
       "      <td>-87.691434</td>\n",
       "      <td>casual</td>\n",
       "    </tr>\n",
       "  </tbody>\n",
       "</table>\n",
       "</div>"
      ],
      "text/plain": [
       "            ride_id  rideable_type           started_at             ended_at  \\\n",
       "0  ACB6B40CF5B9044C  electric_bike  2020-10-31 19:39:43  2020-10-31 19:57:12   \n",
       "1  DF450C72FD109C01  electric_bike  2020-10-31 23:50:08  2020-11-01 00:04:16   \n",
       "2  B6396B54A15AC0DF  electric_bike  2020-10-31 23:00:01  2020-10-31 23:08:22   \n",
       "3  44A4AEE261B9E854  electric_bike  2020-10-31 22:16:43  2020-10-31 22:19:35   \n",
       "4  10B7DD76A6A2EB95  electric_bike  2020-10-31 19:38:19  2020-10-31 19:54:32   \n",
       "\n",
       "               start_station_name start_station_id  \\\n",
       "0   Lakeview Ave & Fullerton Pkwy              313   \n",
       "1    Southport Ave & Waveland Ave              227   \n",
       "2      Stony Island Ave & 67th St              102   \n",
       "3             Clark St & Grace St              165   \n",
       "4  Southport Ave & Wrightwood Ave              190   \n",
       "\n",
       "             end_station_name end_station_id  start_lat  start_lng    end_lat  \\\n",
       "0        Rush St & Hubbard St            125  41.926101 -87.638977  41.890345   \n",
       "1  Kedzie Ave & Milwaukee Ave            260  41.948172 -87.663911  41.929528   \n",
       "2    University Ave & 57th St            423  41.773462 -87.585372  41.791455   \n",
       "3      Broadway & Sheridan Rd            256  41.950855 -87.659244  41.952809   \n",
       "4     Stave St & Armitage Ave            185  41.928857 -87.663962  41.917777   \n",
       "\n",
       "     end_lng member_casual  \n",
       "0 -87.626068        casual  \n",
       "1 -87.707818        casual  \n",
       "2 -87.600050        casual  \n",
       "3 -87.650103        casual  \n",
       "4 -87.691434        casual  "
      ]
     },
     "execution_count": 7,
     "metadata": {},
     "output_type": "execute_result"
    }
   ],
   "source": [
    "bike_df.head()"
   ]
  },
  {
   "cell_type": "markdown",
   "metadata": {},
   "source": [
    "## STEP 2: Process - Clean the data \n",
    "\n",
    "Following are the steps involved in the cleaning of the data: \n",
    "\n",
    "* From the info of the dataframe we can see that the columns started_at and ended_at are not datetime objects. Convert these 2 columns to datetime objects.\n",
    "* Add a column called trip_length, calculated by subtracting started_at from ended_at.\n",
    "* Add columns - month, day,\tyear, day_of_week. \n",
    "* Remove rows with negative trip length.\n",
    "* Remove rows with null end lat/long.\n",
    "* Remove rows with null start_station_name/end_station_name"
   ]
  },
  {
   "cell_type": "code",
   "execution_count": 8,
   "metadata": {},
   "outputs": [
    {
     "data": {
      "text/plain": [
       "str"
      ]
     },
     "execution_count": 8,
     "metadata": {},
     "output_type": "execute_result"
    }
   ],
   "source": [
    "type(bike_df['started_at'].iloc[0])"
   ]
  },
  {
   "cell_type": "code",
   "execution_count": 9,
   "metadata": {},
   "outputs": [
    {
     "data": {
      "text/plain": [
       "str"
      ]
     },
     "execution_count": 9,
     "metadata": {},
     "output_type": "execute_result"
    }
   ],
   "source": [
    "type(bike_df['ended_at'].iloc[0])"
   ]
  },
  {
   "cell_type": "code",
   "execution_count": 10,
   "metadata": {},
   "outputs": [],
   "source": [
    "# Change the data type of 'started_at' and 'ended_at' columns from str to DateTime object\n",
    "\n",
    "bike_df['started_at'] = pd.to_datetime(bike_df['started_at'] )\n",
    "bike_df['ended_at'] = pd.to_datetime(bike_df['ended_at'] )"
   ]
  },
  {
   "cell_type": "code",
   "execution_count": 11,
   "metadata": {},
   "outputs": [],
   "source": [
    "#type(bike_df['started_at'].iloc[0])"
   ]
  },
  {
   "cell_type": "code",
   "execution_count": 12,
   "metadata": {},
   "outputs": [],
   "source": [
    "# Add additional column trip_length in minutes (ended_at - started_at)\n",
    "\n",
    "bike_df['trip_length'] = (bike_df['ended_at'] - bike_df['started_at']).dt.total_seconds()/60"
   ]
  },
  {
   "cell_type": "code",
   "execution_count": 13,
   "metadata": {},
   "outputs": [
    {
     "data": {
      "text/html": [
       "<div>\n",
       "<style scoped>\n",
       "    .dataframe tbody tr th:only-of-type {\n",
       "        vertical-align: middle;\n",
       "    }\n",
       "\n",
       "    .dataframe tbody tr th {\n",
       "        vertical-align: top;\n",
       "    }\n",
       "\n",
       "    .dataframe thead th {\n",
       "        text-align: right;\n",
       "    }\n",
       "</style>\n",
       "<table border=\"1\" class=\"dataframe\">\n",
       "  <thead>\n",
       "    <tr style=\"text-align: right;\">\n",
       "      <th></th>\n",
       "      <th>ride_id</th>\n",
       "      <th>rideable_type</th>\n",
       "      <th>started_at</th>\n",
       "      <th>ended_at</th>\n",
       "      <th>start_station_name</th>\n",
       "      <th>start_station_id</th>\n",
       "      <th>end_station_name</th>\n",
       "      <th>end_station_id</th>\n",
       "      <th>start_lat</th>\n",
       "      <th>start_lng</th>\n",
       "      <th>end_lat</th>\n",
       "      <th>end_lng</th>\n",
       "      <th>member_casual</th>\n",
       "      <th>trip_length</th>\n",
       "    </tr>\n",
       "  </thead>\n",
       "  <tbody>\n",
       "    <tr>\n",
       "      <th>0</th>\n",
       "      <td>ACB6B40CF5B9044C</td>\n",
       "      <td>electric_bike</td>\n",
       "      <td>2020-10-31 19:39:43</td>\n",
       "      <td>2020-10-31 19:57:12</td>\n",
       "      <td>Lakeview Ave &amp; Fullerton Pkwy</td>\n",
       "      <td>313</td>\n",
       "      <td>Rush St &amp; Hubbard St</td>\n",
       "      <td>125</td>\n",
       "      <td>41.926101</td>\n",
       "      <td>-87.638977</td>\n",
       "      <td>41.890345</td>\n",
       "      <td>-87.626068</td>\n",
       "      <td>casual</td>\n",
       "      <td>17.483333</td>\n",
       "    </tr>\n",
       "    <tr>\n",
       "      <th>1</th>\n",
       "      <td>DF450C72FD109C01</td>\n",
       "      <td>electric_bike</td>\n",
       "      <td>2020-10-31 23:50:08</td>\n",
       "      <td>2020-11-01 00:04:16</td>\n",
       "      <td>Southport Ave &amp; Waveland Ave</td>\n",
       "      <td>227</td>\n",
       "      <td>Kedzie Ave &amp; Milwaukee Ave</td>\n",
       "      <td>260</td>\n",
       "      <td>41.948172</td>\n",
       "      <td>-87.663911</td>\n",
       "      <td>41.929528</td>\n",
       "      <td>-87.707818</td>\n",
       "      <td>casual</td>\n",
       "      <td>14.133333</td>\n",
       "    </tr>\n",
       "    <tr>\n",
       "      <th>2</th>\n",
       "      <td>B6396B54A15AC0DF</td>\n",
       "      <td>electric_bike</td>\n",
       "      <td>2020-10-31 23:00:01</td>\n",
       "      <td>2020-10-31 23:08:22</td>\n",
       "      <td>Stony Island Ave &amp; 67th St</td>\n",
       "      <td>102</td>\n",
       "      <td>University Ave &amp; 57th St</td>\n",
       "      <td>423</td>\n",
       "      <td>41.773462</td>\n",
       "      <td>-87.585372</td>\n",
       "      <td>41.791455</td>\n",
       "      <td>-87.600050</td>\n",
       "      <td>casual</td>\n",
       "      <td>8.350000</td>\n",
       "    </tr>\n",
       "    <tr>\n",
       "      <th>3</th>\n",
       "      <td>44A4AEE261B9E854</td>\n",
       "      <td>electric_bike</td>\n",
       "      <td>2020-10-31 22:16:43</td>\n",
       "      <td>2020-10-31 22:19:35</td>\n",
       "      <td>Clark St &amp; Grace St</td>\n",
       "      <td>165</td>\n",
       "      <td>Broadway &amp; Sheridan Rd</td>\n",
       "      <td>256</td>\n",
       "      <td>41.950855</td>\n",
       "      <td>-87.659244</td>\n",
       "      <td>41.952809</td>\n",
       "      <td>-87.650103</td>\n",
       "      <td>casual</td>\n",
       "      <td>2.866667</td>\n",
       "    </tr>\n",
       "    <tr>\n",
       "      <th>4</th>\n",
       "      <td>10B7DD76A6A2EB95</td>\n",
       "      <td>electric_bike</td>\n",
       "      <td>2020-10-31 19:38:19</td>\n",
       "      <td>2020-10-31 19:54:32</td>\n",
       "      <td>Southport Ave &amp; Wrightwood Ave</td>\n",
       "      <td>190</td>\n",
       "      <td>Stave St &amp; Armitage Ave</td>\n",
       "      <td>185</td>\n",
       "      <td>41.928857</td>\n",
       "      <td>-87.663962</td>\n",
       "      <td>41.917777</td>\n",
       "      <td>-87.691434</td>\n",
       "      <td>casual</td>\n",
       "      <td>16.216667</td>\n",
       "    </tr>\n",
       "  </tbody>\n",
       "</table>\n",
       "</div>"
      ],
      "text/plain": [
       "            ride_id  rideable_type          started_at            ended_at  \\\n",
       "0  ACB6B40CF5B9044C  electric_bike 2020-10-31 19:39:43 2020-10-31 19:57:12   \n",
       "1  DF450C72FD109C01  electric_bike 2020-10-31 23:50:08 2020-11-01 00:04:16   \n",
       "2  B6396B54A15AC0DF  electric_bike 2020-10-31 23:00:01 2020-10-31 23:08:22   \n",
       "3  44A4AEE261B9E854  electric_bike 2020-10-31 22:16:43 2020-10-31 22:19:35   \n",
       "4  10B7DD76A6A2EB95  electric_bike 2020-10-31 19:38:19 2020-10-31 19:54:32   \n",
       "\n",
       "               start_station_name start_station_id  \\\n",
       "0   Lakeview Ave & Fullerton Pkwy              313   \n",
       "1    Southport Ave & Waveland Ave              227   \n",
       "2      Stony Island Ave & 67th St              102   \n",
       "3             Clark St & Grace St              165   \n",
       "4  Southport Ave & Wrightwood Ave              190   \n",
       "\n",
       "             end_station_name end_station_id  start_lat  start_lng    end_lat  \\\n",
       "0        Rush St & Hubbard St            125  41.926101 -87.638977  41.890345   \n",
       "1  Kedzie Ave & Milwaukee Ave            260  41.948172 -87.663911  41.929528   \n",
       "2    University Ave & 57th St            423  41.773462 -87.585372  41.791455   \n",
       "3      Broadway & Sheridan Rd            256  41.950855 -87.659244  41.952809   \n",
       "4     Stave St & Armitage Ave            185  41.928857 -87.663962  41.917777   \n",
       "\n",
       "     end_lng member_casual  trip_length  \n",
       "0 -87.626068        casual    17.483333  \n",
       "1 -87.707818        casual    14.133333  \n",
       "2 -87.600050        casual     8.350000  \n",
       "3 -87.650103        casual     2.866667  \n",
       "4 -87.691434        casual    16.216667  "
      ]
     },
     "execution_count": 13,
     "metadata": {},
     "output_type": "execute_result"
    }
   ],
   "source": [
    "bike_df.head()"
   ]
  },
  {
   "cell_type": "code",
   "execution_count": 14,
   "metadata": {},
   "outputs": [],
   "source": [
    "# Add additional columns such as  month, day, year, day of the week which will be useful in future analysis\n",
    "\n",
    "bike_df['hour'] = bike_df['started_at'].apply(lambda time: time.hour)\n",
    "bike_df['month'] = bike_df['started_at'].apply(lambda time: time.month)\n",
    "bike_df['day'] = bike_df['started_at'].apply(lambda time: time.day)\n",
    "bike_df['year'] = bike_df['started_at'].apply(lambda time: time.year)\n",
    "bike_df['day_of_week'] = bike_df['started_at'].apply(lambda time: time.dayofweek)"
   ]
  },
  {
   "cell_type": "code",
   "execution_count": 15,
   "metadata": {},
   "outputs": [],
   "source": [
    "dmap = {0:'Mon',1:'Tue',2:'Wed',3:'Thu',4:'Fri',5:'Sat',6:'Sun'}\n",
    "bike_df['day_of_week'] = bike_df['day_of_week'].map(dmap)"
   ]
  },
  {
   "cell_type": "code",
   "execution_count": 16,
   "metadata": {},
   "outputs": [
    {
     "data": {
      "text/html": [
       "<div>\n",
       "<style scoped>\n",
       "    .dataframe tbody tr th:only-of-type {\n",
       "        vertical-align: middle;\n",
       "    }\n",
       "\n",
       "    .dataframe tbody tr th {\n",
       "        vertical-align: top;\n",
       "    }\n",
       "\n",
       "    .dataframe thead th {\n",
       "        text-align: right;\n",
       "    }\n",
       "</style>\n",
       "<table border=\"1\" class=\"dataframe\">\n",
       "  <thead>\n",
       "    <tr style=\"text-align: right;\">\n",
       "      <th></th>\n",
       "      <th>ride_id</th>\n",
       "      <th>rideable_type</th>\n",
       "      <th>started_at</th>\n",
       "      <th>ended_at</th>\n",
       "      <th>start_station_name</th>\n",
       "      <th>start_station_id</th>\n",
       "      <th>end_station_name</th>\n",
       "      <th>end_station_id</th>\n",
       "      <th>start_lat</th>\n",
       "      <th>start_lng</th>\n",
       "      <th>end_lat</th>\n",
       "      <th>end_lng</th>\n",
       "      <th>member_casual</th>\n",
       "      <th>trip_length</th>\n",
       "      <th>hour</th>\n",
       "      <th>month</th>\n",
       "      <th>day</th>\n",
       "      <th>year</th>\n",
       "      <th>day_of_week</th>\n",
       "    </tr>\n",
       "  </thead>\n",
       "  <tbody>\n",
       "    <tr>\n",
       "      <th>0</th>\n",
       "      <td>ACB6B40CF5B9044C</td>\n",
       "      <td>electric_bike</td>\n",
       "      <td>2020-10-31 19:39:43</td>\n",
       "      <td>2020-10-31 19:57:12</td>\n",
       "      <td>Lakeview Ave &amp; Fullerton Pkwy</td>\n",
       "      <td>313</td>\n",
       "      <td>Rush St &amp; Hubbard St</td>\n",
       "      <td>125</td>\n",
       "      <td>41.926101</td>\n",
       "      <td>-87.638977</td>\n",
       "      <td>41.890345</td>\n",
       "      <td>-87.626068</td>\n",
       "      <td>casual</td>\n",
       "      <td>17.483333</td>\n",
       "      <td>19</td>\n",
       "      <td>10</td>\n",
       "      <td>31</td>\n",
       "      <td>2020</td>\n",
       "      <td>Sat</td>\n",
       "    </tr>\n",
       "    <tr>\n",
       "      <th>1</th>\n",
       "      <td>DF450C72FD109C01</td>\n",
       "      <td>electric_bike</td>\n",
       "      <td>2020-10-31 23:50:08</td>\n",
       "      <td>2020-11-01 00:04:16</td>\n",
       "      <td>Southport Ave &amp; Waveland Ave</td>\n",
       "      <td>227</td>\n",
       "      <td>Kedzie Ave &amp; Milwaukee Ave</td>\n",
       "      <td>260</td>\n",
       "      <td>41.948172</td>\n",
       "      <td>-87.663911</td>\n",
       "      <td>41.929528</td>\n",
       "      <td>-87.707818</td>\n",
       "      <td>casual</td>\n",
       "      <td>14.133333</td>\n",
       "      <td>23</td>\n",
       "      <td>10</td>\n",
       "      <td>31</td>\n",
       "      <td>2020</td>\n",
       "      <td>Sat</td>\n",
       "    </tr>\n",
       "    <tr>\n",
       "      <th>2</th>\n",
       "      <td>B6396B54A15AC0DF</td>\n",
       "      <td>electric_bike</td>\n",
       "      <td>2020-10-31 23:00:01</td>\n",
       "      <td>2020-10-31 23:08:22</td>\n",
       "      <td>Stony Island Ave &amp; 67th St</td>\n",
       "      <td>102</td>\n",
       "      <td>University Ave &amp; 57th St</td>\n",
       "      <td>423</td>\n",
       "      <td>41.773462</td>\n",
       "      <td>-87.585372</td>\n",
       "      <td>41.791455</td>\n",
       "      <td>-87.600050</td>\n",
       "      <td>casual</td>\n",
       "      <td>8.350000</td>\n",
       "      <td>23</td>\n",
       "      <td>10</td>\n",
       "      <td>31</td>\n",
       "      <td>2020</td>\n",
       "      <td>Sat</td>\n",
       "    </tr>\n",
       "    <tr>\n",
       "      <th>3</th>\n",
       "      <td>44A4AEE261B9E854</td>\n",
       "      <td>electric_bike</td>\n",
       "      <td>2020-10-31 22:16:43</td>\n",
       "      <td>2020-10-31 22:19:35</td>\n",
       "      <td>Clark St &amp; Grace St</td>\n",
       "      <td>165</td>\n",
       "      <td>Broadway &amp; Sheridan Rd</td>\n",
       "      <td>256</td>\n",
       "      <td>41.950855</td>\n",
       "      <td>-87.659244</td>\n",
       "      <td>41.952809</td>\n",
       "      <td>-87.650103</td>\n",
       "      <td>casual</td>\n",
       "      <td>2.866667</td>\n",
       "      <td>22</td>\n",
       "      <td>10</td>\n",
       "      <td>31</td>\n",
       "      <td>2020</td>\n",
       "      <td>Sat</td>\n",
       "    </tr>\n",
       "    <tr>\n",
       "      <th>4</th>\n",
       "      <td>10B7DD76A6A2EB95</td>\n",
       "      <td>electric_bike</td>\n",
       "      <td>2020-10-31 19:38:19</td>\n",
       "      <td>2020-10-31 19:54:32</td>\n",
       "      <td>Southport Ave &amp; Wrightwood Ave</td>\n",
       "      <td>190</td>\n",
       "      <td>Stave St &amp; Armitage Ave</td>\n",
       "      <td>185</td>\n",
       "      <td>41.928857</td>\n",
       "      <td>-87.663962</td>\n",
       "      <td>41.917777</td>\n",
       "      <td>-87.691434</td>\n",
       "      <td>casual</td>\n",
       "      <td>16.216667</td>\n",
       "      <td>19</td>\n",
       "      <td>10</td>\n",
       "      <td>31</td>\n",
       "      <td>2020</td>\n",
       "      <td>Sat</td>\n",
       "    </tr>\n",
       "  </tbody>\n",
       "</table>\n",
       "</div>"
      ],
      "text/plain": [
       "            ride_id  rideable_type          started_at            ended_at  \\\n",
       "0  ACB6B40CF5B9044C  electric_bike 2020-10-31 19:39:43 2020-10-31 19:57:12   \n",
       "1  DF450C72FD109C01  electric_bike 2020-10-31 23:50:08 2020-11-01 00:04:16   \n",
       "2  B6396B54A15AC0DF  electric_bike 2020-10-31 23:00:01 2020-10-31 23:08:22   \n",
       "3  44A4AEE261B9E854  electric_bike 2020-10-31 22:16:43 2020-10-31 22:19:35   \n",
       "4  10B7DD76A6A2EB95  electric_bike 2020-10-31 19:38:19 2020-10-31 19:54:32   \n",
       "\n",
       "               start_station_name start_station_id  \\\n",
       "0   Lakeview Ave & Fullerton Pkwy              313   \n",
       "1    Southport Ave & Waveland Ave              227   \n",
       "2      Stony Island Ave & 67th St              102   \n",
       "3             Clark St & Grace St              165   \n",
       "4  Southport Ave & Wrightwood Ave              190   \n",
       "\n",
       "             end_station_name end_station_id  start_lat  start_lng    end_lat  \\\n",
       "0        Rush St & Hubbard St            125  41.926101 -87.638977  41.890345   \n",
       "1  Kedzie Ave & Milwaukee Ave            260  41.948172 -87.663911  41.929528   \n",
       "2    University Ave & 57th St            423  41.773462 -87.585372  41.791455   \n",
       "3      Broadway & Sheridan Rd            256  41.950855 -87.659244  41.952809   \n",
       "4     Stave St & Armitage Ave            185  41.928857 -87.663962  41.917777   \n",
       "\n",
       "     end_lng member_casual  trip_length  hour  month  day  year day_of_week  \n",
       "0 -87.626068        casual    17.483333    19     10   31  2020         Sat  \n",
       "1 -87.707818        casual    14.133333    23     10   31  2020         Sat  \n",
       "2 -87.600050        casual     8.350000    23     10   31  2020         Sat  \n",
       "3 -87.650103        casual     2.866667    22     10   31  2020         Sat  \n",
       "4 -87.691434        casual    16.216667    19     10   31  2020         Sat  "
      ]
     },
     "execution_count": 16,
     "metadata": {},
     "output_type": "execute_result"
    }
   ],
   "source": [
    "bike_df.head()"
   ]
  },
  {
   "cell_type": "code",
   "execution_count": 17,
   "metadata": {},
   "outputs": [
    {
     "data": {
      "text/html": [
       "<div>\n",
       "<style scoped>\n",
       "    .dataframe tbody tr th:only-of-type {\n",
       "        vertical-align: middle;\n",
       "    }\n",
       "\n",
       "    .dataframe tbody tr th {\n",
       "        vertical-align: top;\n",
       "    }\n",
       "\n",
       "    .dataframe thead th {\n",
       "        text-align: right;\n",
       "    }\n",
       "</style>\n",
       "<table border=\"1\" class=\"dataframe\">\n",
       "  <thead>\n",
       "    <tr style=\"text-align: right;\">\n",
       "      <th></th>\n",
       "      <th>start_lat</th>\n",
       "      <th>start_lng</th>\n",
       "      <th>end_lat</th>\n",
       "      <th>end_lng</th>\n",
       "      <th>trip_length</th>\n",
       "      <th>hour</th>\n",
       "      <th>month</th>\n",
       "      <th>day</th>\n",
       "      <th>year</th>\n",
       "    </tr>\n",
       "  </thead>\n",
       "  <tbody>\n",
       "    <tr>\n",
       "      <th>count</th>\n",
       "      <td>5.136261e+06</td>\n",
       "      <td>5.136261e+06</td>\n",
       "      <td>5.131440e+06</td>\n",
       "      <td>5.131440e+06</td>\n",
       "      <td>5.136261e+06</td>\n",
       "      <td>5.136261e+06</td>\n",
       "      <td>5.136261e+06</td>\n",
       "      <td>5.136261e+06</td>\n",
       "      <td>5.136261e+06</td>\n",
       "    </tr>\n",
       "    <tr>\n",
       "      <th>mean</th>\n",
       "      <td>4.190240e+01</td>\n",
       "      <td>-8.764559e+01</td>\n",
       "      <td>4.190269e+01</td>\n",
       "      <td>-8.764581e+01</td>\n",
       "      <td>2.062347e+01</td>\n",
       "      <td>1.428986e+01</td>\n",
       "      <td>7.122985e+00</td>\n",
       "      <td>1.550376e+01</td>\n",
       "      <td>2.020848e+03</td>\n",
       "    </tr>\n",
       "    <tr>\n",
       "      <th>std</th>\n",
       "      <td>4.489459e-02</td>\n",
       "      <td>2.742823e-02</td>\n",
       "      <td>4.499254e-02</td>\n",
       "      <td>2.759811e-02</td>\n",
       "      <td>3.033134e+02</td>\n",
       "      <td>4.982028e+00</td>\n",
       "      <td>2.374832e+00</td>\n",
       "      <td>8.784152e+00</td>\n",
       "      <td>3.588756e-01</td>\n",
       "    </tr>\n",
       "    <tr>\n",
       "      <th>min</th>\n",
       "      <td>4.164000e+01</td>\n",
       "      <td>-8.784000e+01</td>\n",
       "      <td>4.151000e+01</td>\n",
       "      <td>-8.807000e+01</td>\n",
       "      <td>-2.904997e+04</td>\n",
       "      <td>0.000000e+00</td>\n",
       "      <td>1.000000e+00</td>\n",
       "      <td>1.000000e+00</td>\n",
       "      <td>2.020000e+03</td>\n",
       "    </tr>\n",
       "    <tr>\n",
       "      <th>25%</th>\n",
       "      <td>4.188213e+01</td>\n",
       "      <td>-8.765975e+01</td>\n",
       "      <td>4.188224e+01</td>\n",
       "      <td>-8.766000e+01</td>\n",
       "      <td>7.083333e+00</td>\n",
       "      <td>1.100000e+01</td>\n",
       "      <td>6.000000e+00</td>\n",
       "      <td>8.000000e+00</td>\n",
       "      <td>2.021000e+03</td>\n",
       "    </tr>\n",
       "    <tr>\n",
       "      <th>50%</th>\n",
       "      <td>4.190000e+01</td>\n",
       "      <td>-8.764170e+01</td>\n",
       "      <td>4.190000e+01</td>\n",
       "      <td>-8.764182e+01</td>\n",
       "      <td>1.260000e+01</td>\n",
       "      <td>1.500000e+01</td>\n",
       "      <td>7.000000e+00</td>\n",
       "      <td>1.500000e+01</td>\n",
       "      <td>2.021000e+03</td>\n",
       "    </tr>\n",
       "    <tr>\n",
       "      <th>75%</th>\n",
       "      <td>4.192947e+01</td>\n",
       "      <td>-8.762773e+01</td>\n",
       "      <td>4.192955e+01</td>\n",
       "      <td>-8.762775e+01</td>\n",
       "      <td>2.280000e+01</td>\n",
       "      <td>1.800000e+01</td>\n",
       "      <td>9.000000e+00</td>\n",
       "      <td>2.300000e+01</td>\n",
       "      <td>2.021000e+03</td>\n",
       "    </tr>\n",
       "    <tr>\n",
       "      <th>max</th>\n",
       "      <td>4.208000e+01</td>\n",
       "      <td>-8.752000e+01</td>\n",
       "      <td>4.216812e+01</td>\n",
       "      <td>-8.744000e+01</td>\n",
       "      <td>5.594415e+04</td>\n",
       "      <td>2.300000e+01</td>\n",
       "      <td>1.200000e+01</td>\n",
       "      <td>3.100000e+01</td>\n",
       "      <td>2.021000e+03</td>\n",
       "    </tr>\n",
       "  </tbody>\n",
       "</table>\n",
       "</div>"
      ],
      "text/plain": [
       "          start_lat     start_lng       end_lat       end_lng   trip_length  \\\n",
       "count  5.136261e+06  5.136261e+06  5.131440e+06  5.131440e+06  5.136261e+06   \n",
       "mean   4.190240e+01 -8.764559e+01  4.190269e+01 -8.764581e+01  2.062347e+01   \n",
       "std    4.489459e-02  2.742823e-02  4.499254e-02  2.759811e-02  3.033134e+02   \n",
       "min    4.164000e+01 -8.784000e+01  4.151000e+01 -8.807000e+01 -2.904997e+04   \n",
       "25%    4.188213e+01 -8.765975e+01  4.188224e+01 -8.766000e+01  7.083333e+00   \n",
       "50%    4.190000e+01 -8.764170e+01  4.190000e+01 -8.764182e+01  1.260000e+01   \n",
       "75%    4.192947e+01 -8.762773e+01  4.192955e+01 -8.762775e+01  2.280000e+01   \n",
       "max    4.208000e+01 -8.752000e+01  4.216812e+01 -8.744000e+01  5.594415e+04   \n",
       "\n",
       "               hour         month           day          year  \n",
       "count  5.136261e+06  5.136261e+06  5.136261e+06  5.136261e+06  \n",
       "mean   1.428986e+01  7.122985e+00  1.550376e+01  2.020848e+03  \n",
       "std    4.982028e+00  2.374832e+00  8.784152e+00  3.588756e-01  \n",
       "min    0.000000e+00  1.000000e+00  1.000000e+00  2.020000e+03  \n",
       "25%    1.100000e+01  6.000000e+00  8.000000e+00  2.021000e+03  \n",
       "50%    1.500000e+01  7.000000e+00  1.500000e+01  2.021000e+03  \n",
       "75%    1.800000e+01  9.000000e+00  2.300000e+01  2.021000e+03  \n",
       "max    2.300000e+01  1.200000e+01  3.100000e+01  2.021000e+03  "
      ]
     },
     "execution_count": 17,
     "metadata": {},
     "output_type": "execute_result"
    }
   ],
   "source": [
    "bike_df.describe()"
   ]
  },
  {
   "cell_type": "code",
   "execution_count": 18,
   "metadata": {},
   "outputs": [],
   "source": [
    "# Remove rows with trip length less than 1 min and more than 24 hrs (1440 min)\n",
    "# Remove rows with null end_lat and end_lng\n",
    "# Remove rows with null start_station_name and end_station_name\n",
    "# Remove rows with start_station_name containing value as TEST\n",
    "\n",
    "\n",
    "clean_df = bike_df[(bike_df['trip_length']>=1) & (bike_df['trip_length']<= 1440)]\n",
    "clean_df = clean_df.dropna(subset=['end_lat'])\n",
    "clean_df = clean_df.dropna(subset=['end_lng'])\n",
    "clean_df = clean_df.dropna(subset=['start_station_name'])\n",
    "clean_df = clean_df.dropna(subset=['end_station_name'])\n",
    "clean_df = clean_df[~clean_df['start_station_name'].str.contains('TEST')]"
   ]
  },
  {
   "cell_type": "code",
   "execution_count": 19,
   "metadata": {},
   "outputs": [],
   "source": [
    "#clean_df[clean_df['start_station_name'].str.contains('TEST')].count()['ride_id']\n",
    "#clean_df.count()['ride_id']"
   ]
  },
  {
   "cell_type": "code",
   "execution_count": 20,
   "metadata": {},
   "outputs": [
    {
     "data": {
      "text/plain": [
       "0"
      ]
     },
     "execution_count": 20,
     "metadata": {},
     "output_type": "execute_result"
    }
   ],
   "source": [
    "# Checking for duplicate value of ride_id -- no duplicates found\n",
    "clean_df[clean_df.duplicated(subset=['ride_id']) == True].count()['ride_id']"
   ]
  },
  {
   "cell_type": "code",
   "execution_count": 21,
   "metadata": {},
   "outputs": [
    {
     "data": {
      "text/plain": [
       "array(['electric_bike', 'docked_bike', 'classic_bike'], dtype=object)"
      ]
     },
     "execution_count": 21,
     "metadata": {},
     "output_type": "execute_result"
    }
   ],
   "source": [
    "# Check the values in categorical columns - rideable_type and member_casual\n",
    "clean_df['rideable_type'].unique()"
   ]
  },
  {
   "cell_type": "code",
   "execution_count": 22,
   "metadata": {},
   "outputs": [
    {
     "data": {
      "text/plain": [
       "array(['casual', 'member'], dtype=object)"
      ]
     },
     "execution_count": 22,
     "metadata": {},
     "output_type": "execute_result"
    }
   ],
   "source": [
    "clean_df['member_casual'].unique()"
   ]
  },
  {
   "cell_type": "code",
   "execution_count": 23,
   "metadata": {},
   "outputs": [],
   "source": [
    "# Save the cleaned data for creating visualizations in tools like Tableau\n",
    "clean_df.to_csv('./BikeShare_Data/clean_tripdata.csv', index=False)"
   ]
  },
  {
   "cell_type": "markdown",
   "metadata": {},
   "source": [
    "## STEP 3: Analyze - Exploratory Data Analysis (EDA)\n",
    "\n",
    "Before creating visualizations with the data, let's do some EDA of the data which will highlight major patterns and trends of the data."
   ]
  },
  {
   "cell_type": "code",
   "execution_count": 24,
   "metadata": {},
   "outputs": [],
   "source": [
    "#import required libraries\n",
    "\n",
    "import numpy as np\n",
    "import pandas as pd\n",
    "\n",
    "#import visualization libraries and set %matplotlib inline\n",
    "\n",
    "import matplotlib.pyplot as plt\n",
    "import seaborn as sns\n",
    "sns.set_style('whitegrid')\n",
    "%matplotlib inline\n"
   ]
  },
  {
   "cell_type": "code",
   "execution_count": 96,
   "metadata": {},
   "outputs": [],
   "source": [
    "data = pd.read_csv('./BikeShare_Data/clean_tripdata.csv')"
   ]
  },
  {
   "cell_type": "code",
   "execution_count": 97,
   "metadata": {},
   "outputs": [
    {
     "name": "stdout",
     "output_type": "stream",
     "text": [
      "<class 'pandas.core.frame.DataFrame'>\n",
      "RangeIndex: 4294164 entries, 0 to 4294163\n",
      "Data columns (total 19 columns):\n",
      " #   Column              Dtype  \n",
      "---  ------              -----  \n",
      " 0   ride_id             object \n",
      " 1   rideable_type       object \n",
      " 2   started_at          object \n",
      " 3   ended_at            object \n",
      " 4   start_station_name  object \n",
      " 5   start_station_id    object \n",
      " 6   end_station_name    object \n",
      " 7   end_station_id      object \n",
      " 8   start_lat           float64\n",
      " 9   start_lng           float64\n",
      " 10  end_lat             float64\n",
      " 11  end_lng             float64\n",
      " 12  member_casual       object \n",
      " 13  trip_length         float64\n",
      " 14  hour                int64  \n",
      " 15  month               int64  \n",
      " 16  day                 int64  \n",
      " 17  year                int64  \n",
      " 18  day_of_week         object \n",
      "dtypes: float64(5), int64(4), object(10)\n",
      "memory usage: 622.5+ MB\n"
     ]
    }
   ],
   "source": [
    "data.info()"
   ]
  },
  {
   "cell_type": "code",
   "execution_count": 98,
   "metadata": {},
   "outputs": [
    {
     "data": {
      "text/html": [
       "<div>\n",
       "<style scoped>\n",
       "    .dataframe tbody tr th:only-of-type {\n",
       "        vertical-align: middle;\n",
       "    }\n",
       "\n",
       "    .dataframe tbody tr th {\n",
       "        vertical-align: top;\n",
       "    }\n",
       "\n",
       "    .dataframe thead th {\n",
       "        text-align: right;\n",
       "    }\n",
       "</style>\n",
       "<table border=\"1\" class=\"dataframe\">\n",
       "  <thead>\n",
       "    <tr style=\"text-align: right;\">\n",
       "      <th></th>\n",
       "      <th>start_lat</th>\n",
       "      <th>start_lng</th>\n",
       "      <th>end_lat</th>\n",
       "      <th>end_lng</th>\n",
       "      <th>trip_length</th>\n",
       "      <th>hour</th>\n",
       "      <th>month</th>\n",
       "      <th>day</th>\n",
       "      <th>year</th>\n",
       "    </tr>\n",
       "  </thead>\n",
       "  <tbody>\n",
       "    <tr>\n",
       "      <th>count</th>\n",
       "      <td>4.294164e+06</td>\n",
       "      <td>4.294164e+06</td>\n",
       "      <td>4.294164e+06</td>\n",
       "      <td>4.294164e+06</td>\n",
       "      <td>4.294164e+06</td>\n",
       "      <td>4.294164e+06</td>\n",
       "      <td>4.294164e+06</td>\n",
       "      <td>4.294164e+06</td>\n",
       "      <td>4.294164e+06</td>\n",
       "    </tr>\n",
       "    <tr>\n",
       "      <th>mean</th>\n",
       "      <td>4.190380e+01</td>\n",
       "      <td>-8.764355e+01</td>\n",
       "      <td>4.190410e+01</td>\n",
       "      <td>-8.764379e+01</td>\n",
       "      <td>2.084094e+01</td>\n",
       "      <td>1.428577e+01</td>\n",
       "      <td>7.101184e+00</td>\n",
       "      <td>1.545603e+01</td>\n",
       "      <td>2.020845e+03</td>\n",
       "    </tr>\n",
       "    <tr>\n",
       "      <th>std</th>\n",
       "      <td>4.009587e-02</td>\n",
       "      <td>2.331233e-02</td>\n",
       "      <td>4.022897e-02</td>\n",
       "      <td>2.350829e-02</td>\n",
       "      <td>3.705358e+01</td>\n",
       "      <td>4.931194e+00</td>\n",
       "      <td>2.398234e+00</td>\n",
       "      <td>8.784215e+00</td>\n",
       "      <td>3.615513e-01</td>\n",
       "    </tr>\n",
       "    <tr>\n",
       "      <th>min</th>\n",
       "      <td>4.164850e+01</td>\n",
       "      <td>-8.783000e+01</td>\n",
       "      <td>4.164850e+01</td>\n",
       "      <td>-8.783000e+01</td>\n",
       "      <td>1.000000e+00</td>\n",
       "      <td>0.000000e+00</td>\n",
       "      <td>1.000000e+00</td>\n",
       "      <td>1.000000e+00</td>\n",
       "      <td>2.020000e+03</td>\n",
       "    </tr>\n",
       "    <tr>\n",
       "      <th>25%</th>\n",
       "      <td>4.188286e+01</td>\n",
       "      <td>-8.765549e+01</td>\n",
       "      <td>4.188317e+01</td>\n",
       "      <td>-8.765571e+01</td>\n",
       "      <td>7.400000e+00</td>\n",
       "      <td>1.100000e+01</td>\n",
       "      <td>6.000000e+00</td>\n",
       "      <td>8.000000e+00</td>\n",
       "      <td>2.021000e+03</td>\n",
       "    </tr>\n",
       "    <tr>\n",
       "      <th>50%</th>\n",
       "      <td>4.189859e+01</td>\n",
       "      <td>-8.764055e+01</td>\n",
       "      <td>4.189897e+01</td>\n",
       "      <td>-8.764098e+01</td>\n",
       "      <td>1.286667e+01</td>\n",
       "      <td>1.500000e+01</td>\n",
       "      <td>7.000000e+00</td>\n",
       "      <td>1.500000e+01</td>\n",
       "      <td>2.021000e+03</td>\n",
       "    </tr>\n",
       "    <tr>\n",
       "      <th>75%</th>\n",
       "      <td>4.192871e+01</td>\n",
       "      <td>-8.762769e+01</td>\n",
       "      <td>4.192877e+01</td>\n",
       "      <td>-8.762769e+01</td>\n",
       "      <td>2.318333e+01</td>\n",
       "      <td>1.800000e+01</td>\n",
       "      <td>9.000000e+00</td>\n",
       "      <td>2.300000e+01</td>\n",
       "      <td>2.021000e+03</td>\n",
       "    </tr>\n",
       "    <tr>\n",
       "      <th>max</th>\n",
       "      <td>4.206485e+01</td>\n",
       "      <td>-8.752823e+01</td>\n",
       "      <td>4.216812e+01</td>\n",
       "      <td>-8.752452e+01</td>\n",
       "      <td>1.439900e+03</td>\n",
       "      <td>2.300000e+01</td>\n",
       "      <td>1.200000e+01</td>\n",
       "      <td>3.100000e+01</td>\n",
       "      <td>2.021000e+03</td>\n",
       "    </tr>\n",
       "  </tbody>\n",
       "</table>\n",
       "</div>"
      ],
      "text/plain": [
       "          start_lat     start_lng       end_lat       end_lng   trip_length  \\\n",
       "count  4.294164e+06  4.294164e+06  4.294164e+06  4.294164e+06  4.294164e+06   \n",
       "mean   4.190380e+01 -8.764355e+01  4.190410e+01 -8.764379e+01  2.084094e+01   \n",
       "std    4.009587e-02  2.331233e-02  4.022897e-02  2.350829e-02  3.705358e+01   \n",
       "min    4.164850e+01 -8.783000e+01  4.164850e+01 -8.783000e+01  1.000000e+00   \n",
       "25%    4.188286e+01 -8.765549e+01  4.188317e+01 -8.765571e+01  7.400000e+00   \n",
       "50%    4.189859e+01 -8.764055e+01  4.189897e+01 -8.764098e+01  1.286667e+01   \n",
       "75%    4.192871e+01 -8.762769e+01  4.192877e+01 -8.762769e+01  2.318333e+01   \n",
       "max    4.206485e+01 -8.752823e+01  4.216812e+01 -8.752452e+01  1.439900e+03   \n",
       "\n",
       "               hour         month           day          year  \n",
       "count  4.294164e+06  4.294164e+06  4.294164e+06  4.294164e+06  \n",
       "mean   1.428577e+01  7.101184e+00  1.545603e+01  2.020845e+03  \n",
       "std    4.931194e+00  2.398234e+00  8.784215e+00  3.615513e-01  \n",
       "min    0.000000e+00  1.000000e+00  1.000000e+00  2.020000e+03  \n",
       "25%    1.100000e+01  6.000000e+00  8.000000e+00  2.021000e+03  \n",
       "50%    1.500000e+01  7.000000e+00  1.500000e+01  2.021000e+03  \n",
       "75%    1.800000e+01  9.000000e+00  2.300000e+01  2.021000e+03  \n",
       "max    2.300000e+01  1.200000e+01  3.100000e+01  2.021000e+03  "
      ]
     },
     "execution_count": 98,
     "metadata": {},
     "output_type": "execute_result"
    }
   ],
   "source": [
    "data.describe()"
   ]
  },
  {
   "cell_type": "code",
   "execution_count": 99,
   "metadata": {},
   "outputs": [
    {
     "data": {
      "text/html": [
       "<div>\n",
       "<style scoped>\n",
       "    .dataframe tbody tr th:only-of-type {\n",
       "        vertical-align: middle;\n",
       "    }\n",
       "\n",
       "    .dataframe tbody tr th {\n",
       "        vertical-align: top;\n",
       "    }\n",
       "\n",
       "    .dataframe thead th {\n",
       "        text-align: right;\n",
       "    }\n",
       "</style>\n",
       "<table border=\"1\" class=\"dataframe\">\n",
       "  <thead>\n",
       "    <tr style=\"text-align: right;\">\n",
       "      <th></th>\n",
       "      <th>ride_id</th>\n",
       "      <th>rideable_type</th>\n",
       "      <th>started_at</th>\n",
       "      <th>ended_at</th>\n",
       "      <th>start_station_name</th>\n",
       "      <th>start_station_id</th>\n",
       "      <th>end_station_name</th>\n",
       "      <th>end_station_id</th>\n",
       "      <th>start_lat</th>\n",
       "      <th>start_lng</th>\n",
       "      <th>end_lat</th>\n",
       "      <th>end_lng</th>\n",
       "      <th>member_casual</th>\n",
       "      <th>trip_length</th>\n",
       "      <th>hour</th>\n",
       "      <th>month</th>\n",
       "      <th>day</th>\n",
       "      <th>year</th>\n",
       "      <th>day_of_week</th>\n",
       "    </tr>\n",
       "  </thead>\n",
       "  <tbody>\n",
       "    <tr>\n",
       "      <th>0</th>\n",
       "      <td>ACB6B40CF5B9044C</td>\n",
       "      <td>electric_bike</td>\n",
       "      <td>2020-10-31 19:39:43</td>\n",
       "      <td>2020-10-31 19:57:12</td>\n",
       "      <td>Lakeview Ave &amp; Fullerton Pkwy</td>\n",
       "      <td>313</td>\n",
       "      <td>Rush St &amp; Hubbard St</td>\n",
       "      <td>125</td>\n",
       "      <td>41.926101</td>\n",
       "      <td>-87.638977</td>\n",
       "      <td>41.890345</td>\n",
       "      <td>-87.626068</td>\n",
       "      <td>casual</td>\n",
       "      <td>17.483333</td>\n",
       "      <td>19</td>\n",
       "      <td>10</td>\n",
       "      <td>31</td>\n",
       "      <td>2020</td>\n",
       "      <td>Sat</td>\n",
       "    </tr>\n",
       "    <tr>\n",
       "      <th>1</th>\n",
       "      <td>DF450C72FD109C01</td>\n",
       "      <td>electric_bike</td>\n",
       "      <td>2020-10-31 23:50:08</td>\n",
       "      <td>2020-11-01 00:04:16</td>\n",
       "      <td>Southport Ave &amp; Waveland Ave</td>\n",
       "      <td>227</td>\n",
       "      <td>Kedzie Ave &amp; Milwaukee Ave</td>\n",
       "      <td>260</td>\n",
       "      <td>41.948172</td>\n",
       "      <td>-87.663911</td>\n",
       "      <td>41.929528</td>\n",
       "      <td>-87.707818</td>\n",
       "      <td>casual</td>\n",
       "      <td>14.133333</td>\n",
       "      <td>23</td>\n",
       "      <td>10</td>\n",
       "      <td>31</td>\n",
       "      <td>2020</td>\n",
       "      <td>Sat</td>\n",
       "    </tr>\n",
       "  </tbody>\n",
       "</table>\n",
       "</div>"
      ],
      "text/plain": [
       "            ride_id  rideable_type           started_at             ended_at  \\\n",
       "0  ACB6B40CF5B9044C  electric_bike  2020-10-31 19:39:43  2020-10-31 19:57:12   \n",
       "1  DF450C72FD109C01  electric_bike  2020-10-31 23:50:08  2020-11-01 00:04:16   \n",
       "\n",
       "              start_station_name start_station_id            end_station_name  \\\n",
       "0  Lakeview Ave & Fullerton Pkwy              313        Rush St & Hubbard St   \n",
       "1   Southport Ave & Waveland Ave              227  Kedzie Ave & Milwaukee Ave   \n",
       "\n",
       "  end_station_id  start_lat  start_lng    end_lat    end_lng member_casual  \\\n",
       "0            125  41.926101 -87.638977  41.890345 -87.626068        casual   \n",
       "1            260  41.948172 -87.663911  41.929528 -87.707818        casual   \n",
       "\n",
       "   trip_length  hour  month  day  year day_of_week  \n",
       "0    17.483333    19     10   31  2020         Sat  \n",
       "1    14.133333    23     10   31  2020         Sat  "
      ]
     },
     "execution_count": 99,
     "metadata": {},
     "output_type": "execute_result"
    }
   ],
   "source": [
    "data.head(2)"
   ]
  },
  {
   "cell_type": "markdown",
   "metadata": {},
   "source": [
    "** Basic Values"
   ]
  },
  {
   "cell_type": "code",
   "execution_count": 100,
   "metadata": {},
   "outputs": [
    {
     "data": {
      "text/plain": [
       "20.840943964878285"
      ]
     },
     "execution_count": 100,
     "metadata": {},
     "output_type": "execute_result"
    }
   ],
   "source": [
    "data['trip_length'].mean()"
   ]
  },
  {
   "cell_type": "code",
   "execution_count": 101,
   "metadata": {},
   "outputs": [
    {
     "data": {
      "text/plain": [
       "12.866666666666667"
      ]
     },
     "execution_count": 101,
     "metadata": {},
     "output_type": "execute_result"
    }
   ],
   "source": [
    "data['trip_length'].median()"
   ]
  },
  {
   "cell_type": "code",
   "execution_count": 102,
   "metadata": {},
   "outputs": [
    {
     "data": {
      "text/plain": [
       "23.998333333333335"
      ]
     },
     "execution_count": 102,
     "metadata": {},
     "output_type": "execute_result"
    }
   ],
   "source": [
    "data['trip_length'].max()/60"
   ]
  },
  {
   "cell_type": "code",
   "execution_count": 103,
   "metadata": {},
   "outputs": [
    {
     "data": {
      "text/plain": [
       "0.01666666666666667"
      ]
     },
     "execution_count": 103,
     "metadata": {},
     "output_type": "execute_result"
    }
   ],
   "source": [
    "data['trip_length'].min()/60"
   ]
  },
  {
   "cell_type": "code",
   "execution_count": 104,
   "metadata": {},
   "outputs": [
    {
     "data": {
      "text/plain": [
       "month\n",
       "1      82607\n",
       "2      42278\n",
       "3     203317\n",
       "4     294513\n",
       "5     444939\n",
       "6     600256\n",
       "7     683009\n",
       "8     665974\n",
       "9     613266\n",
       "10    332400\n",
       "11    219256\n",
       "12    112349\n",
       "Name: ride_id, dtype: int64"
      ]
     },
     "execution_count": 104,
     "metadata": {},
     "output_type": "execute_result"
    }
   ],
   "source": [
    "# Trip count by month\n",
    "data.groupby('month')['ride_id'].count()"
   ]
  },
  {
   "cell_type": "code",
   "execution_count": 105,
   "metadata": {},
   "outputs": [
    {
     "data": {
      "text/plain": [
       "day_of_week\n",
       "Fri    616476\n",
       "Mon    535884\n",
       "Sat    781103\n",
       "Sun    668230\n",
       "Thu    577197\n",
       "Tue    547839\n",
       "Wed    567435\n",
       "Name: ride_id, dtype: int64"
      ]
     },
     "execution_count": 105,
     "metadata": {},
     "output_type": "execute_result"
    }
   ],
   "source": [
    "# Trip count by day of the week\n",
    "data.groupby('day_of_week')['ride_id'].count()"
   ]
  },
  {
   "cell_type": "code",
   "execution_count": 106,
   "metadata": {},
   "outputs": [
    {
     "data": {
      "text/plain": [
       "month\n",
       "1      19242.313611\n",
       "2      12862.026389\n",
       "3      70137.279444\n",
       "4     106541.934722\n",
       "5     175439.429722\n",
       "6     227397.162500\n",
       "7     249242.349444\n",
       "8     229197.513056\n",
       "9     199603.615833\n",
       "10    105477.935833\n",
       "11     68447.429167\n",
       "12     27984.865278\n",
       "Name: trip_length, dtype: float64"
      ]
     },
     "execution_count": 106,
     "metadata": {},
     "output_type": "execute_result"
    }
   ],
   "source": [
    "#Trip duration (in hrs) by month \n",
    "data.groupby('month')['trip_length'].sum()/60"
   ]
  },
  {
   "cell_type": "markdown",
   "metadata": {},
   "source": [
    "## STEP 4: Create Visualizations"
   ]
  },
  {
   "cell_type": "code",
   "execution_count": 121,
   "metadata": {},
   "outputs": [
    {
     "data": {
      "text/plain": [
       "Text(0.5, 1.0, 'Casual Riders Vs Annual Members')"
      ]
     },
     "execution_count": 121,
     "metadata": {},
     "output_type": "execute_result"
    },
    {
     "data": {
      "image/png": "[encoded data removed]",
      "text/plain": [
       "<Figure size 864x432 with 1 Axes>"
      ]
     },
     "metadata": {},
     "output_type": "display_data"
    }
   ],
   "source": [
    "# Number of Casual Riders Vs Annual members\n",
    "df_cnt = data.groupby('member_casual')['ride_id'].count()\n",
    "mycolor=['CornflowerBlue','green']\n",
    "\n",
    "plt.figure(figsize=(12,6))\n",
    "labels = df_cnt.keys()\n",
    "plt.pie(x=df_cnt, autopct=\"%.1f%%\", labels=labels, pctdistance=0.5,shadow = True,colors=mycolor,textprops={'fontsize': 14})\n",
    "plt.title(\"Casual Riders Vs Annual Members\", fontsize=20)\n"
   ]
  },
  {
   "cell_type": "markdown",
   "metadata": {},
   "source": [
    "** Number of Casual Riders are less than Annual Members"
   ]
  },
  {
   "cell_type": "code",
   "execution_count": 109,
   "metadata": {},
   "outputs": [
    {
     "data": {
      "text/html": [
       "<div>\n",
       "<style scoped>\n",
       "    .dataframe tbody tr th:only-of-type {\n",
       "        vertical-align: middle;\n",
       "    }\n",
       "\n",
       "    .dataframe tbody tr th {\n",
       "        vertical-align: top;\n",
       "    }\n",
       "\n",
       "    .dataframe thead th {\n",
       "        text-align: right;\n",
       "    }\n",
       "</style>\n",
       "<table border=\"1\" class=\"dataframe\">\n",
       "  <thead>\n",
       "    <tr style=\"text-align: right;\">\n",
       "      <th></th>\n",
       "      <th>member_casual</th>\n",
       "      <th>trip_length</th>\n",
       "    </tr>\n",
       "  </thead>\n",
       "  <tbody>\n",
       "    <tr>\n",
       "      <th>0</th>\n",
       "      <td>casual</td>\n",
       "      <td>29.302123</td>\n",
       "    </tr>\n",
       "    <tr>\n",
       "      <th>1</th>\n",
       "      <td>member</td>\n",
       "      <td>13.851301</td>\n",
       "    </tr>\n",
       "  </tbody>\n",
       "</table>\n",
       "</div>"
      ],
      "text/plain": [
       "  member_casual  trip_length\n",
       "0        casual    29.302123\n",
       "1        member    13.851301"
      ]
     },
     "execution_count": 109,
     "metadata": {},
     "output_type": "execute_result"
    }
   ],
   "source": [
    "# Average Trip Length (in min) of Casual Riders Vs Annual members\n",
    "avg_length = data.groupby('member_casual')['trip_length'].mean()\n",
    "df1 = avg_length.to_frame().reset_index()\n",
    "df1.head()"
   ]
  },
  {
   "cell_type": "code",
   "execution_count": 120,
   "metadata": {},
   "outputs": [
    {
     "data": {
      "text/plain": [
       "Text(0.5, 1.0, 'Chart 2: Average Trip Duration (min) of Casual Riders Vs Annual members')"
      ]
     },
     "execution_count": 120,
     "metadata": {},
     "output_type": "execute_result"
    },
    {
     "data": {
      "image/png": "[encoded data removed]",
      "text/plain": [
       "<Figure size 432x288 with 1 Axes>"
      ]
     },
     "metadata": {
      "needs_background": "light"
     },
     "output_type": "display_data"
    }
   ],
   "source": [
    "\n",
    "sns.barplot(x='member_casual',y='trip_length',data=df1, palette='mako')\n",
    "\n",
    "plt.xlabel(\"Member Type\", fontsize=15)\n",
    "plt.ylabel(\"Average Trip Duration (min)\", fontsize=15)\n",
    "plt.title(\"Average Trip Duration (min) of Casual Riders Vs Annual members\", fontsize=20)"
   ]
  },
  {
   "cell_type": "markdown",
   "metadata": {},
   "source": [
    "** Average Trip Duration of Casual Riders is more than that of Annual Members"
   ]
  },
  {
   "cell_type": "code",
   "execution_count": 41,
   "metadata": {},
   "outputs": [
    {
     "data": {
      "text/plain": [
       "Text(0.5, 1.0, 'Monthly Dsitribution of Trips')"
      ]
     },
     "execution_count": 41,
     "metadata": {},
     "output_type": "execute_result"
    },
    {
     "data": {
      "image/png": "[encoded data removed]",
      "text/plain": [
       "<Figure size 864x432 with 1 Axes>"
      ]
     },
     "metadata": {
      "needs_background": "light"
     },
     "output_type": "display_data"
    }
   ],
   "source": [
    "# Monthly Dsitribution of Trips \n",
    "plt.figure(figsize=(12,6))\n",
    "sns.countplot(x='month',data=data, hue='member_casual',palette='mako')\n",
    "\n",
    "plt.xlabel(\"Months\", fontsize=15)\n",
    "plt.ylabel(\"Bike-Share Usage\", fontsize=15)\n",
    "plt.title(\"Monthly Dsitribution of Trips\", fontsize=20)"
   ]
  },
  {
   "cell_type": "markdown",
   "metadata": {},
   "source": [
    "** For both casual and members, the summer months of June, July, August, September are the most popular months."
   ]
  },
  {
   "cell_type": "code",
   "execution_count": 42,
   "metadata": {},
   "outputs": [
    {
     "data": {
      "text/plain": [
       "Text(0.5, 1.0, 'Daily Dsitribution of Trips')"
      ]
     },
     "execution_count": 42,
     "metadata": {},
     "output_type": "execute_result"
    },
    {
     "data": {
      "image/png": "[encoded data removed]",
      "text/plain": [
       "<Figure size 864x432 with 1 Axes>"
      ]
     },
     "metadata": {
      "needs_background": "light"
     },
     "output_type": "display_data"
    }
   ],
   "source": [
    "# Daily Dsitribution of Trips\n",
    "plt.figure(figsize=(12,6))\n",
    "sns.countplot(x='day_of_week',data=data, order=['Mon','Tue','Wed','Thu','Fri','Sat','Sun'], \n",
    "              hue='member_casual',palette='mako' )\n",
    "\n",
    "plt.xlabel(\"Day of the week\", fontsize=15)\n",
    "plt.ylabel(\"Bike-Share Usage\", fontsize=15)\n",
    "plt.title(\"Daily Dsitribution of Trips\", fontsize=20)"
   ]
  },
  {
   "cell_type": "markdown",
   "metadata": {},
   "source": [
    "\n",
    "* Here, we can see that there is a difference between the behaviour of casual riders and annual members.\n",
    "* For casual riders, the weekends are the most popular days to use bike-share.\n",
    "* For annual members, the weekdays are the most popular days with minimum usage on Sundays.\n",
    "\n"
   ]
  },
  {
   "cell_type": "code",
   "execution_count": 43,
   "metadata": {},
   "outputs": [],
   "source": [
    "data_heatmap_casual = data[data['member_casual']=='casual'].groupby(by=['month','day_of_week'])['ride_id'].count().unstack()\n",
    "data_heatmap_member = data[data['member_casual']=='member'].groupby(by=['month','day_of_week'])['ride_id'].count().unstack()"
   ]
  },
  {
   "cell_type": "code",
   "execution_count": 81,
   "metadata": {},
   "outputs": [
    {
     "data": {
      "text/plain": [
       "Text(0.5, 1.0, 'Casual Riders - Heatmap of Day of the week Vs Months')"
      ]
     },
     "execution_count": 81,
     "metadata": {},
     "output_type": "execute_result"
    },
    {
     "data": {
      "image/png": "[encoded data removed]",
      "text/plain": [
       "<Figure size 864x432 with 2 Axes>"
      ]
     },
     "metadata": {
      "needs_background": "light"
     },
     "output_type": "display_data"
    }
   ],
   "source": [
    "#Casual Riders - Heatmap of Months Vs Day of the week\n",
    "plt.figure(figsize=(12,6))\n",
    "sns.heatmap(data_heatmap_casual,cmap='coolwarm')\n",
    "\n",
    "plt.xlabel(\"Day of the week\", fontsize=15)\n",
    "plt.ylabel(\"Months\", fontsize=15)\n",
    "plt.title(\"Casual Riders - Heatmap of Day of the week Vs Months\", fontsize=20)"
   ]
  },
  {
   "cell_type": "code",
   "execution_count": 82,
   "metadata": {},
   "outputs": [
    {
     "data": {
      "text/plain": [
       "Text(0.5, 1.0, 'Annual Members - Heatmap of Day of the week Vs Months')"
      ]
     },
     "execution_count": 82,
     "metadata": {},
     "output_type": "execute_result"
    },
    {
     "data": {
      "image/png": "[encoded data removed]",
      "text/plain": [
       "<Figure size 864x432 with 2 Axes>"
      ]
     },
     "metadata": {
      "needs_background": "light"
     },
     "output_type": "display_data"
    }
   ],
   "source": [
    "#Annual Members - Heatmap of Months Vs Day of the week\n",
    "plt.figure(figsize=(12,6))\n",
    "sns.heatmap(data_heatmap_member,cmap='coolwarm')\n",
    "\n",
    "plt.xlabel(\"Day of the week\", fontsize=15)\n",
    "plt.ylabel(\"Months\", fontsize=15)\n",
    "plt.title(\"Annual Members - Heatmap of Day of the week Vs Months\", fontsize=20)"
   ]
  },
  {
   "cell_type": "code",
   "execution_count": 83,
   "metadata": {},
   "outputs": [],
   "source": [
    "#Most popular time of day\n",
    "\n",
    "data_byhr_casual=data[data['member_casual']=='casual'].groupby(by=['hour','day_of_week'])['ride_id'].count().unstack()\n",
    "data_byhr_member=data[data['member_casual']=='member'].groupby(by=['hour','day_of_week'])['ride_id'].count().unstack()"
   ]
  },
  {
   "cell_type": "code",
   "execution_count": 122,
   "metadata": {},
   "outputs": [
    {
     "data": {
      "text/plain": [
       "Text(0.5, 1.0, 'Casual Riders - Heatmap of Day of the week Vs Time of the Day')"
      ]
     },
     "execution_count": 122,
     "metadata": {},
     "output_type": "execute_result"
    },
    {
     "data": {
      "image/png": "[encoded data removed]",
      "text/plain": [
       "<Figure size 864x432 with 2 Axes>"
      ]
     },
     "metadata": {
      "needs_background": "light"
     },
     "output_type": "display_data"
    }
   ],
   "source": [
    "plt.figure(figsize=(12,6))\n",
    "sns.heatmap(data_byhr_casual,cmap='coolwarm')\n",
    "\n",
    "plt.xlabel(\"Day of the week\", fontsize=15)\n",
    "plt.ylabel(\"Time of the day\", fontsize=15)\n",
    "plt.title(\"Casual Riders - Heatmap of Day of the week Vs Time of the Day\", fontsize=20)"
   ]
  },
  {
   "cell_type": "code",
   "execution_count": 88,
   "metadata": {},
   "outputs": [
    {
     "data": {
      "text/plain": [
       "Text(0.5, 1.0, 'Annual Members - Heatmap of Day of the week Vs Time of the Day')"
      ]
     },
     "execution_count": 88,
     "metadata": {},
     "output_type": "execute_result"
    },
    {
     "data": {
      "image/png": "[encoded data removed]",
      "text/plain": [
       "<Figure size 864x432 with 2 Axes>"
      ]
     },
     "metadata": {
      "needs_background": "light"
     },
     "output_type": "display_data"
    }
   ],
   "source": [
    "plt.figure(figsize=(12,6))\n",
    "sns.heatmap(data_byhr_member,cmap='coolwarm')\n",
    "\n",
    "plt.xlabel(\"Day of the week\", fontsize=15)\n",
    "plt.ylabel(\"Time of the day\", fontsize=15)\n",
    "plt.title(\"Annual Members - Heatmap of Day of the week Vs Time of the Day\", fontsize=20)"
   ]
  },
  {
   "cell_type": "markdown",
   "metadata": {},
   "source": [
    "## STEP 5: Act Phase - Recommendations & Key take aways\n",
    "\n",
    "### Conclusion\n",
    "\n",
    "From all the above charts, we can conclude the following:\n",
    "\n",
    "For Casual Riders:\n",
    " * Most popular Months are June-Sept\n",
    " * Most popular Day and Time is Saturday and Sunday between 12 to 4 PM\n",
    " \n",
    "For Annual Members:\n",
    " * Most popular Months are June-Sept\n",
    " * Most popular Day and Time is Monday to Friday between 4 to 6 PM\n",
    " \n",
    "Hence, we can conclude that Casual Riders are mostly who visit the city for leisure/sightseeing etc on weekends.\n",
    "In contrast, the Annual Members are people who use the bike-share service to go to work/office on weekdays.\n",
    "\n",
    "However, there are some casual riders who use the bike-share service for office/school commute but have still not taken the annual membership. May be due to the one time high cost of the registration. This needs to be addressed and people need to be made aware that annual mebership will be more cost effective in the long term."
   ]
  },
  {
   "cell_type": "markdown",
   "metadata": {},
   "source": [
    "### Recommendation for converting casual riders into annual members : \n",
    "\n",
    "1. Focus should be on converting the casual riders who use the bike share service for commuting but still do not have an annual membership. Marketing emails/Ads can be sent to these select casual riders to tell them the benefits of having annual membership and the cost effectiveness of the membership.\n",
    "2. Discount coupons for Annual Membership registration can be provided who have used the bike share service for more than some particular hrs, say 5 hours.\n",
    "3. Since the casual riders use the bike share service mostly in summers, all the digital campaign should be done majorly in summer seasons from June to September. "
   ]
  },
  {
   "cell_type": "code",
   "execution_count": null,
   "metadata": {},
   "outputs": [],
   "source": []
  }
 ],
 "metadata": {
  "kernelspec": {
   "display_name": "Python 3",
   "language": "python",
   "name": "python3"
  },
  "language_info": {
   "codemirror_mode": {
    "name": "ipython",
    "version": 3
   },
   "file_extension": ".py",
   "mimetype": "text/x-python",
   "name": "python",
   "nbconvert_exporter": "python",
   "pygments_lexer": "ipython3",
   "version": "3.8.5"
  }
 },
 "nbformat": 4,
 "nbformat_minor": 4
}
